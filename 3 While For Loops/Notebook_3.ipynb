{
 "cells": [
  {
   "cell_type": "markdown",
   "id": "01dcf2b5",
   "metadata": {},
   "source": [
    "# While For Loops"
   ]
  },
  {
   "cell_type": "markdown",
   "id": "9dc9f35e",
   "metadata": {},
   "source": [
    "## While Else Statement"
   ]
  },
  {
   "cell_type": "code",
   "execution_count": 1,
   "id": "39ec4e46",
   "metadata": {},
   "outputs": [
    {
     "name": "stdout",
     "output_type": "stream",
     "text": [
      "1\n",
      "2\n",
      "3\n",
      "4\n",
      "5\n",
      "6\n",
      "7\n",
      "8\n",
      "9\n",
      "10\n"
     ]
    }
   ],
   "source": [
    "counter=1\n",
    "\n",
    "while counter<11:\n",
    "    print(counter)\n",
    "    counter+=1"
   ]
  },
  {
   "cell_type": "code",
   "execution_count": 2,
   "id": "5a8915fc",
   "metadata": {},
   "outputs": [
    {
     "name": "stdout",
     "output_type": "stream",
     "text": [
      "1\n",
      "2\n",
      "3\n",
      "4\n",
      "5\n",
      "6\n",
      "7\n",
      "8\n",
      "9\n",
      "10\n",
      "All numbers are printed\n"
     ]
    }
   ],
   "source": [
    "counter=1\n",
    "\n",
    "while counter<11:\n",
    "    print(counter)\n",
    "    counter+=1\n",
    "else:\n",
    "    print(\"All numbers are printed\")"
   ]
  },
  {
   "cell_type": "markdown",
   "id": "19a5546e",
   "metadata": {},
   "source": [
    "## Break Continue Statement"
   ]
  },
  {
   "cell_type": "code",
   "execution_count": 3,
   "id": "d16c5843",
   "metadata": {},
   "outputs": [
    {
     "name": "stdout",
     "output_type": "stream",
     "text": [
      "1\n",
      "2\n",
      "3\n",
      "4\n",
      "5\n"
     ]
    }
   ],
   "source": [
    "counter=1\n",
    "while counter<11:\n",
    "    print(counter)\n",
    "    \n",
    "    if counter==5:break\n",
    "    counter+=1"
   ]
  },
  {
   "cell_type": "code",
   "execution_count": 5,
   "id": "fbfa6d13",
   "metadata": {},
   "outputs": [
    {
     "name": "stdout",
     "output_type": "stream",
     "text": [
      "2\n",
      "3\n",
      "4\n",
      "6\n",
      "7\n",
      "8\n",
      "9\n",
      "10\n",
      "11\n"
     ]
    }
   ],
   "source": [
    "counter=1\n",
    "while counter<11:\n",
    "    counter+=1\n",
    "    if counter==5:continue\n",
    "    print(counter)"
   ]
  },
  {
   "cell_type": "markdown",
   "id": "35289dd0",
   "metadata": {},
   "source": [
    "## While Else Break Statement"
   ]
  },
  {
   "cell_type": "markdown",
   "id": "9cdfa978",
   "metadata": {},
   "source": [
    "If the else statement is used with the while, it gets executed when the condition is false. \n",
    "In the below example the print statement inside else does not get executed, since the counter never gets greater than 11."
   ]
  },
  {
   "cell_type": "code",
   "execution_count": 6,
   "id": "15aa263e",
   "metadata": {},
   "outputs": [
    {
     "name": "stdout",
     "output_type": "stream",
     "text": [
      "1\n",
      "2\n",
      "3\n",
      "4\n",
      "5\n"
     ]
    }
   ],
   "source": [
    "counter=1\n",
    "while counter<11:\n",
    "    print(counter)\n",
    "    if counter==5:break\n",
    "    counter+=1\n",
    "else:\n",
    "    print(\"All numbers printed\")"
   ]
  },
  {
   "cell_type": "markdown",
   "id": "30c3db3c",
   "metadata": {},
   "source": [
    "## For Statement"
   ]
  },
  {
   "cell_type": "code",
   "execution_count": 7,
   "id": "29fa2b85",
   "metadata": {},
   "outputs": [
    {
     "name": "stdout",
     "output_type": "stream",
     "text": [
      "daisy\n",
      "rose\n",
      "sunflower\n"
     ]
    }
   ],
   "source": [
    "flowers=['daisy','rose','sunflower']\n",
    "\n",
    "for x in flowers:\n",
    "    print(x)"
   ]
  },
  {
   "cell_type": "code",
   "execution_count": 9,
   "id": "c98a4323",
   "metadata": {},
   "outputs": [
    {
     "name": "stdout",
     "output_type": "stream",
     "text": [
      "b\n",
      "a\n",
      "n\n",
      "a\n",
      "n\n",
      "a\n"
     ]
    }
   ],
   "source": [
    "# Looping through a string. String is a seuence of characters\n",
    "for x in \"banana\":\n",
    "    print(x)"
   ]
  },
  {
   "cell_type": "markdown",
   "id": "62c2052b",
   "metadata": {},
   "source": [
    "## For Else Statement"
   ]
  },
  {
   "cell_type": "markdown",
   "id": "cc24c95c",
   "metadata": {},
   "source": [
    "If the else statement is used with a for loop, the else statement is executed when the loop has exhausted iterating the list."
   ]
  },
  {
   "cell_type": "code",
   "execution_count": 44,
   "id": "fac914c2",
   "metadata": {},
   "outputs": [
    {
     "name": "stdout",
     "output_type": "stream",
     "text": [
      "0\n",
      "Error\n",
      "0\n",
      "1\n",
      "Error\n",
      "0\n",
      "1\n",
      "2\n",
      "Error\n",
      "0\n",
      "1\n",
      "2\n",
      "3\n",
      "0\n",
      "1\n",
      "2\n",
      "3\n"
     ]
    }
   ],
   "source": [
    "for j in range(1,6):   \n",
    "\n",
    "    for i in range(j):\n",
    "        print(i)\n",
    "        if i==3:\n",
    "            break\n",
    "    else:\n",
    "        print('Error')"
   ]
  },
  {
   "cell_type": "markdown",
   "id": "3314241c",
   "metadata": {},
   "source": [
    "## For Statement with Break"
   ]
  },
  {
   "cell_type": "markdown",
   "id": "81c264f9",
   "metadata": {},
   "source": [
    "With the break statement, we can stop the loop before it has looped through all the items."
   ]
  },
  {
   "cell_type": "code",
   "execution_count": 15,
   "id": "9809e960",
   "metadata": {},
   "outputs": [
    {
     "name": "stdout",
     "output_type": "stream",
     "text": [
      "apple\n",
      "banana\n"
     ]
    }
   ],
   "source": [
    "fruits=[\"apple\",\"banana\",\"cherry\"]\n",
    "\n",
    "for x in fruits:\n",
    "    print(x)\n",
    "    \n",
    "    if x==\"banana\":\n",
    "        break # exit the loop after printing 'banana'"
   ]
  },
  {
   "cell_type": "markdown",
   "id": "cfae8e1f",
   "metadata": {},
   "source": [
    "## For Statement with Continue"
   ]
  },
  {
   "cell_type": "markdown",
   "id": "7e2417da",
   "metadata": {},
   "source": [
    "The continue statement is used to skip the rest of the code inside a loop for the current iteration only. Loop does not terminate but continues on with the next iteration."
   ]
  },
  {
   "cell_type": "code",
   "execution_count": 16,
   "id": "c3f7cf3f",
   "metadata": {
    "scrolled": true
   },
   "outputs": [
    {
     "name": "stdout",
     "output_type": "stream",
     "text": [
      "Found an even number 2\n",
      "Found an odd number 3\n",
      "Found an even number 4\n",
      "Found an odd number 5\n",
      "Found an even number 6\n",
      "Found an odd number 7\n",
      "Found an even number 8\n",
      "Found an odd number 9\n",
      "Found an even number 10\n",
      "Found an odd number 11\n",
      "Found an even number 12\n",
      "Found an odd number 13\n",
      "Found an even number 14\n",
      "Found an odd number 15\n",
      "Found an even number 16\n",
      "Found an odd number 17\n",
      "Found an even number 18\n",
      "Found an odd number 19\n",
      "Found an even number 20\n",
      "Found an odd number 21\n",
      "Found an even number 22\n",
      "Found an odd number 23\n",
      "Found an even number 24\n",
      "Found an odd number 25\n",
      "Found an even number 26\n",
      "Found an odd number 27\n",
      "Found an even number 28\n",
      "Found an odd number 29\n",
      "Found an even number 30\n",
      "Found an odd number 31\n",
      "Found an even number 32\n",
      "Found an odd number 33\n",
      "Found an even number 34\n",
      "Found an odd number 35\n",
      "Found an even number 36\n",
      "Found an odd number 37\n",
      "Found an even number 38\n",
      "Found an odd number 39\n",
      "Found an even number 40\n",
      "Found an odd number 41\n",
      "Found an even number 42\n",
      "Found an odd number 43\n",
      "Found an even number 44\n",
      "Found an odd number 45\n",
      "Found an even number 46\n",
      "Found an odd number 47\n",
      "Found an even number 48\n",
      "Found an odd number 49\n",
      "Found an even number 50\n",
      "Found an odd number 51\n",
      "Found an even number 52\n",
      "Found an odd number 53\n",
      "Found an even number 54\n",
      "Found an odd number 55\n",
      "Found an even number 56\n",
      "Found an odd number 57\n",
      "Found an even number 58\n",
      "Found an odd number 59\n",
      "Found an even number 60\n",
      "Found an odd number 61\n",
      "Found an even number 62\n",
      "Found an odd number 63\n",
      "Found an even number 64\n",
      "Found an odd number 65\n",
      "Found an even number 66\n",
      "Found an odd number 67\n",
      "Found an even number 68\n",
      "Found an odd number 69\n",
      "Found an even number 70\n",
      "Found an odd number 71\n",
      "Found an even number 72\n",
      "Found an odd number 73\n",
      "Found an even number 74\n",
      "Found an odd number 75\n",
      "Found an even number 76\n",
      "Found an odd number 77\n",
      "Found an even number 78\n",
      "Found an odd number 79\n",
      "Found an even number 80\n",
      "Found an odd number 81\n",
      "Found an even number 82\n",
      "Found an odd number 83\n",
      "Found an even number 84\n",
      "Found an odd number 85\n",
      "Found an even number 86\n",
      "Found an odd number 87\n",
      "Found an even number 88\n",
      "Found an odd number 89\n",
      "Found an even number 90\n",
      "Found an odd number 91\n",
      "Found an even number 92\n",
      "Found an odd number 93\n",
      "Found an even number 94\n",
      "Found an odd number 95\n",
      "Found an even number 96\n",
      "Found an odd number 97\n",
      "Found an even number 98\n",
      "Found an odd number 99\n"
     ]
    }
   ],
   "source": [
    "for number in range(2,100):\n",
    "    if number%2==0:\n",
    "        print(\"Found an even number \"+str(number))\n",
    "        continue\n",
    "    print(\"Found an odd number \"+str(number))"
   ]
  },
  {
   "cell_type": "markdown",
   "id": "233655f2",
   "metadata": {},
   "source": [
    "## For Statement using Index\n",
    "\n",
    "Enumerate() method adds a counter to an Iterable and returns it in a form of enumerate object which can then be used directly in for loops."
   ]
  },
  {
   "cell_type": "code",
   "execution_count": 18,
   "id": "4c233d98",
   "metadata": {},
   "outputs": [
    {
     "name": "stdout",
     "output_type": "stream",
     "text": [
      "0 apple\n",
      "1 banana\n",
      "2 cherry\n"
     ]
    }
   ],
   "source": [
    "fruits=[\"apple\",\"banana\",\"cherry\"]\n",
    "\n",
    "for index,value in enumerate(fruits):\n",
    "    print(str(index)+\" \"+value)"
   ]
  },
  {
   "cell_type": "code",
   "execution_count": 32,
   "id": "d38200cb",
   "metadata": {},
   "outputs": [
    {
     "name": "stdout",
     "output_type": "stream",
     "text": [
      "apple\n",
      "banana\n",
      "cherry\n"
     ]
    }
   ],
   "source": [
    "fruits=[\"apple\",\"banana\",\"cherry\"]\n",
    "\n",
    "for index in range(len(fruits)):\n",
    "    print(fruits[index])"
   ]
  },
  {
   "cell_type": "markdown",
   "id": "b29381e1",
   "metadata": {},
   "source": [
    "## Short Hand"
   ]
  },
  {
   "cell_type": "code",
   "execution_count": 45,
   "id": "30db49ec",
   "metadata": {},
   "outputs": [
    {
     "data": {
      "text/plain": [
       "['apple', 'banana', 'cherry']"
      ]
     },
     "execution_count": 45,
     "metadata": {},
     "output_type": "execute_result"
    }
   ],
   "source": [
    "newlist=[i for i in fruits]\n",
    "newlist"
   ]
  },
  {
   "cell_type": "code",
   "execution_count": 46,
   "id": "55237008",
   "metadata": {},
   "outputs": [
    {
     "data": {
      "text/plain": [
       "[2, 4, 6, 8, 10]"
      ]
     },
     "execution_count": 46,
     "metadata": {},
     "output_type": "execute_result"
    }
   ],
   "source": [
    "mylist=[1,2,3,4,5]\n",
    "doublelist=[i*2 for i in mylist]\n",
    "doublelist"
   ]
  },
  {
   "cell_type": "code",
   "execution_count": 49,
   "id": "046a9f98",
   "metadata": {},
   "outputs": [
    {
     "data": {
      "text/plain": [
       "['Mazda']"
      ]
     },
     "execution_count": 49,
     "metadata": {},
     "output_type": "execute_result"
    }
   ],
   "source": [
    "cars=[\"Proton\",\"Mercedes\",\"Perodua\",\"Mazda\"]\n",
    "listcars=[i for i in cars if len(i)==5]\n",
    "listcars"
   ]
  },
  {
   "cell_type": "code",
   "execution_count": 50,
   "id": "3481ed50",
   "metadata": {},
   "outputs": [
    {
     "data": {
      "text/plain": [
       "[(1, 3), (1, 4), (2, 3), (2, 1), (2, 4), (3, 1), (3, 4)]"
      ]
     },
     "execution_count": 50,
     "metadata": {},
     "output_type": "execute_result"
    }
   ],
   "source": [
    "# Iterate through multiple lists\n",
    "[(x,y) for x in [1,2,3] for y in [3,1,4] if x!=y]"
   ]
  },
  {
   "cell_type": "code",
   "execution_count": 51,
   "id": "e3688760",
   "metadata": {},
   "outputs": [
    {
     "data": {
      "text/plain": [
       "['3.1', '3.14', '3.142', '3.1416', '3.14159']"
      ]
     },
     "execution_count": 51,
     "metadata": {},
     "output_type": "execute_result"
    }
   ],
   "source": [
    "# Calculate pi values\n",
    "from math import pi\n",
    "[str(round(pi,i)) for i in range(1,6)]"
   ]
  }
 ],
 "metadata": {
  "kernelspec": {
   "display_name": "Python 3",
   "language": "python",
   "name": "python3"
  },
  "language_info": {
   "codemirror_mode": {
    "name": "ipython",
    "version": 3
   },
   "file_extension": ".py",
   "mimetype": "text/x-python",
   "name": "python",
   "nbconvert_exporter": "python",
   "pygments_lexer": "ipython3",
   "version": "3.7.6"
  }
 },
 "nbformat": 4,
 "nbformat_minor": 5
}
