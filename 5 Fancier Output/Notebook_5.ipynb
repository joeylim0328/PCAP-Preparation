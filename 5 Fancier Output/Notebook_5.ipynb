{
 "cells": [
  {
   "cell_type": "markdown",
   "id": "57a94b65",
   "metadata": {},
   "source": [
    "# 5 Fancier Output"
   ]
  },
  {
   "cell_type": "markdown",
   "id": "6f984f47",
   "metadata": {},
   "source": [
    "## Print using %"
   ]
  },
  {
   "cell_type": "code",
   "execution_count": 1,
   "id": "c965a873",
   "metadata": {},
   "outputs": [
    {
     "name": "stdout",
     "output_type": "stream",
     "text": [
      "Hello, Joey!\n"
     ]
    }
   ],
   "source": [
    "name=\"Joey\"\n",
    "print(\"Hello, %s!\"%name)"
   ]
  },
  {
   "cell_type": "code",
   "execution_count": 2,
   "id": "3851c99d",
   "metadata": {},
   "outputs": [
    {
     "name": "stdout",
     "output_type": "stream",
     "text": [
      "Joey is 23 years old.\n"
     ]
    }
   ],
   "source": [
    "age=23\n",
    "print(\"%s is %d years old.\"%(name,age))"
   ]
  },
  {
   "cell_type": "markdown",
   "id": "b1e554b7",
   "metadata": {},
   "source": [
    "## Print using format"
   ]
  },
  {
   "cell_type": "code",
   "execution_count": 3,
   "id": "f60816e2",
   "metadata": {},
   "outputs": [
    {
     "data": {
      "text/plain": [
       "'Art:   453, Price:    59.06'"
      ]
     },
     "execution_count": 3,
     "metadata": {},
     "output_type": "execute_result"
    }
   ],
   "source": [
    "# Positional (Follow index)\n",
    "\"Art: {0:5d}, Price: {1:8.2f}\".format(453, 59.058)"
   ]
  },
  {
   "cell_type": "code",
   "execution_count": 4,
   "id": "daca833a",
   "metadata": {},
   "outputs": [
    {
     "data": {
      "text/plain": [
       "'Art:   453, Price:    59.06'"
      ]
     },
     "execution_count": 4,
     "metadata": {},
     "output_type": "execute_result"
    }
   ],
   "source": [
    "# Keyword\n",
    "\"Art: {a:5d}, Price: {p:8.2f}\".format(a=453, p=59.058)"
   ]
  },
  {
   "cell_type": "code",
   "execution_count": 5,
   "id": "f31997fe",
   "metadata": {},
   "outputs": [
    {
     "data": {
      "text/plain": [
       "'Spam & Eggs:           6.99'"
      ]
     },
     "execution_count": 5,
     "metadata": {},
     "output_type": "execute_result"
    }
   ],
   "source": [
    "# Alignment Left\n",
    "\"{0:<20s} {1:6.2f}\".format('Spam & Eggs:', 6.99)"
   ]
  },
  {
   "cell_type": "code",
   "execution_count": 6,
   "id": "429d6ae8",
   "metadata": {},
   "outputs": [
    {
     "data": {
      "text/plain": [
       "'        Spam & Eggs:   6.99'"
      ]
     },
     "execution_count": 6,
     "metadata": {},
     "output_type": "execute_result"
    }
   ],
   "source": [
    "# Alignment right\n",
    "\"{0:>20s} {1:6.2f}\".format('Spam & Eggs:', 6.99)"
   ]
  },
  {
   "cell_type": "code",
   "execution_count": 7,
   "id": "68f23f87",
   "metadata": {},
   "outputs": [
    {
     "data": {
      "text/plain": [
       "'    Spam & Eggs:       6.99'"
      ]
     },
     "execution_count": 7,
     "metadata": {},
     "output_type": "execute_result"
    }
   ],
   "source": [
    "# Alignment centre\n",
    "\"{0:^20s} {1:6.2f}\".format('Spam & Eggs:', 6.99)"
   ]
  },
  {
   "cell_type": "code",
   "execution_count": 8,
   "id": "b34dd209",
   "metadata": {},
   "outputs": [
    {
     "data": {
      "text/plain": [
       "'****Spam & Eggs:****   6.99'"
      ]
     },
     "execution_count": 8,
     "metadata": {},
     "output_type": "execute_result"
    }
   ],
   "source": [
    "# Alignment centre with padding character *\n",
    "\"{0:*^20s} {1:6.2f}\".format('Spam & Eggs:', 6.99)"
   ]
  },
  {
   "cell_type": "code",
   "execution_count": 10,
   "id": "fe5f4fd0",
   "metadata": {},
   "outputs": [
    {
     "name": "stdout",
     "output_type": "stream",
     "text": [
      "The value is 000378\n",
      "The value is -00378\n"
     ]
    }
   ],
   "source": [
    "# Zero Padding\n",
    "x = 378\n",
    "print(\"The value is {:06d}\".format(x))\n",
    "x = -378\n",
    "print(\"The value is {:06d}\".format(x))"
   ]
  },
  {
   "cell_type": "code",
   "execution_count": 11,
   "id": "c7f62c26",
   "metadata": {},
   "outputs": [
    {
     "name": "stdout",
     "output_type": "stream",
     "text": [
      "The value is 78,962,324,245\n",
      "The value is 78,962,324,245\n",
      "The value is 5,897,653,423.897\n"
     ]
    }
   ],
   "source": [
    "# Thousands separator\n",
    "x = 78962324245\n",
    "print(\"The value is {:,}\".format(x))\n",
    "print(\"The value is {0:6,d}\".format(x))\n",
    "x = 5897653423.89676\n",
    "print(\"The value is {0:12,.3f}\".format(x))"
   ]
  },
  {
   "cell_type": "code",
   "execution_count": 13,
   "id": "aba72c4e",
   "metadata": {},
   "outputs": [
    {
     "name": "stdout",
     "output_type": "stream",
     "text": [
      "Capital of Ontario is Toronto\n",
      "Capital of Perak is Ipoh\n",
      "The capital of Ontario is Toronto\n"
     ]
    }
   ],
   "source": [
    "# Using dictionaries in format\n",
    "print (\"Capital of {0:s} is {1:s}\".format(\"Ontario\",\"Toronto\"))\n",
    "print (\"Capital of {state} is {capital}\".format(state=\"Perak\",capital=\"Ipoh\"))\n",
    "data = dict(province=\"Ontario\",capital=\"Toronto\")\n",
    "print(\"The capital of {province} is {capital}\".format(**data))\n"
   ]
  },
  {
   "cell_type": "code",
   "execution_count": 14,
   "id": "686a024a",
   "metadata": {},
   "outputs": [
    {
     "name": "stdout",
     "output_type": "stream",
     "text": [
      "US: Washington\n",
      "Canada: Ottawa\n",
      "MY: Malaysia\n"
     ]
    }
   ],
   "source": [
    "# Iterate through the dictionary and print all the values\n",
    "capital_country={\"US\":\"Washington\",\"Canada\":\"Ottawa\",\"MY\":\"Malaysia\"}\n",
    "\n",
    "for c in capital_country:\n",
    "    format_string = c + \": {\" + c + \"}\"\n",
    "    print(format_string.format(**capital_country))"
   ]
  },
  {
   "cell_type": "markdown",
   "id": "ed6e7053",
   "metadata": {},
   "source": [
    "## Print using f-strings"
   ]
  },
  {
   "cell_type": "code",
   "execution_count": 16,
   "id": "1c872739",
   "metadata": {},
   "outputs": [
    {
     "data": {
      "text/plain": [
       "'Price in Euro: 11.23'"
      ]
     },
     "execution_count": 16,
     "metadata": {},
     "output_type": "execute_result"
    }
   ],
   "source": [
    "price = 11.23\n",
    "f\"Price in Euro: {price}\""
   ]
  },
  {
   "cell_type": "code",
   "execution_count": 17,
   "id": "f1651439",
   "metadata": {},
   "outputs": [
    {
     "data": {
      "text/plain": [
       "'Price in Swiss Franks: 12.195780000000001'"
      ]
     },
     "execution_count": 17,
     "metadata": {},
     "output_type": "execute_result"
    }
   ],
   "source": [
    "f\"Price in Swiss Franks: {price * 1.086}\""
   ]
  },
  {
   "cell_type": "code",
   "execution_count": 18,
   "id": "6e712e09",
   "metadata": {},
   "outputs": [
    {
     "data": {
      "text/plain": [
       "'Price in Swiss Franks: 12.20'"
      ]
     },
     "execution_count": 18,
     "metadata": {},
     "output_type": "execute_result"
    }
   ],
   "source": [
    "f\"Price in Swiss Franks: {price * 1.086:5.2f}\""
   ]
  },
  {
   "cell_type": "code",
   "execution_count": 19,
   "id": "85a744bd",
   "metadata": {},
   "outputs": [
    {
     "name": "stdout",
     "output_type": "stream",
     "text": [
      "     bread:\n",
      "    butter:\n",
      "       tea:\n"
     ]
    }
   ],
   "source": [
    "for a in [\"bread\", \"butter\", \"tea\"]:\n",
    "    print(f\"{a:>10}:\")"
   ]
  },
  {
   "cell_type": "markdown",
   "id": "1a13b8d9",
   "metadata": {},
   "source": [
    "## Print using Template String\n",
    "Instead of using the normal % based substitutions, template strings support the $ based substitutions.\n",
    "The Python Template class has a second method that we can use to perform string substitution. The method is called safe_substitute(). It works similarly to substitute() but when we use an incomplete or non-matching set of arguments the method doesn't rise a KeyError."
   ]
  },
  {
   "cell_type": "code",
   "execution_count": 22,
   "id": "400f2a15",
   "metadata": {},
   "outputs": [
    {
     "data": {
      "text/plain": [
       "'You owe the baker a total of $100'"
      ]
     },
     "execution_count": 22,
     "metadata": {},
     "output_type": "execute_result"
    }
   ],
   "source": [
    "from string import Template\n",
    "money = dict(who = 'You', to_whom = 'baker')\n",
    "Template('$who owe the $to_whom a total of $$100').substitute(money)\n"
   ]
  },
  {
   "cell_type": "code",
   "execution_count": 23,
   "id": "9d75ad0f",
   "metadata": {},
   "outputs": [
    {
     "data": {
      "text/plain": [
       "'You owe the baker a total of $100'"
      ]
     },
     "execution_count": 23,
     "metadata": {},
     "output_type": "execute_result"
    }
   ],
   "source": [
    "Template('$who owe the $to_whom a total of $$100').safe_substitute(money)"
   ]
  },
  {
   "cell_type": "markdown",
   "id": "9a62eee5",
   "metadata": {},
   "source": [
    "## Format using methods"
   ]
  },
  {
   "cell_type": "code",
   "execution_count": 24,
   "id": "a3d4de94",
   "metadata": {},
   "outputs": [
    {
     "data": {
      "text/plain": [
       "'       Python       '"
      ]
     },
     "execution_count": 24,
     "metadata": {},
     "output_type": "execute_result"
    }
   ],
   "source": [
    "s=\"Python\"\n",
    "s.center(20)"
   ]
  },
  {
   "cell_type": "code",
   "execution_count": 26,
   "id": "890ebb9d",
   "metadata": {},
   "outputs": [
    {
     "data": {
      "text/plain": [
       "'*******Python*******'"
      ]
     },
     "execution_count": 26,
     "metadata": {},
     "output_type": "execute_result"
    }
   ],
   "source": [
    "s.center(20,\"*\")"
   ]
  },
  {
   "cell_type": "code",
   "execution_count": 27,
   "id": "c517a56a",
   "metadata": {},
   "outputs": [
    {
     "data": {
      "text/plain": [
       "'Python              '"
      ]
     },
     "execution_count": 27,
     "metadata": {},
     "output_type": "execute_result"
    }
   ],
   "source": [
    "s.ljust(20)"
   ]
  },
  {
   "cell_type": "code",
   "execution_count": 28,
   "id": "0fbd68c7",
   "metadata": {},
   "outputs": [
    {
     "data": {
      "text/plain": [
       "'PythonXXXXXXXXXXXXXX'"
      ]
     },
     "execution_count": 28,
     "metadata": {},
     "output_type": "execute_result"
    }
   ],
   "source": [
    "s.ljust(20,\"X\")"
   ]
  },
  {
   "cell_type": "code",
   "execution_count": 29,
   "id": "5db3da20",
   "metadata": {},
   "outputs": [
    {
     "data": {
      "text/plain": [
       "'              Python'"
      ]
     },
     "execution_count": 29,
     "metadata": {},
     "output_type": "execute_result"
    }
   ],
   "source": [
    "s.rjust(20)"
   ]
  },
  {
   "cell_type": "code",
   "execution_count": 30,
   "id": "af164ae9",
   "metadata": {},
   "outputs": [
    {
     "data": {
      "text/plain": [
       "'88888888888888Python'"
      ]
     },
     "execution_count": 30,
     "metadata": {},
     "output_type": "execute_result"
    }
   ],
   "source": [
    "s.rjust(20,\"8\")"
   ]
  },
  {
   "cell_type": "code",
   "execution_count": 32,
   "id": "c6f17dee",
   "metadata": {},
   "outputs": [
    {
     "data": {
      "text/plain": [
       "'000000234329'"
      ]
     },
     "execution_count": 32,
     "metadata": {},
     "output_type": "execute_result"
    }
   ],
   "source": [
    "account_number=234329\n",
    "str(account_number).zfill(12)"
   ]
  }
 ],
 "metadata": {
  "kernelspec": {
   "display_name": "Python 3",
   "language": "python",
   "name": "python3"
  },
  "language_info": {
   "codemirror_mode": {
    "name": "ipython",
    "version": 3
   },
   "file_extension": ".py",
   "mimetype": "text/x-python",
   "name": "python",
   "nbconvert_exporter": "python",
   "pygments_lexer": "ipython3",
   "version": "3.7.6"
  }
 },
 "nbformat": 4,
 "nbformat_minor": 5
}
