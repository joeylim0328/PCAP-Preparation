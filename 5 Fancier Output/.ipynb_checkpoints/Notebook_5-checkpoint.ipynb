{
 "cells": [
  {
   "cell_type": "markdown",
   "id": "d96b6b62",
   "metadata": {},
   "source": [
    "# 5 Fancier Output"
   ]
  },
  {
   "cell_type": "markdown",
   "id": "f3c1db47",
   "metadata": {},
   "source": [
    "## Print using %"
   ]
  },
  {
   "cell_type": "code",
   "execution_count": 1,
   "id": "fc0afdfe",
   "metadata": {},
   "outputs": [
    {
     "name": "stdout",
     "output_type": "stream",
     "text": [
      "Hello, Joey!\n"
     ]
    }
   ],
   "source": [
    "name=\"Joey\"\n",
    "print(\"Hello, %s!\"%name)"
   ]
  },
  {
   "cell_type": "code",
   "execution_count": 2,
   "id": "2104b6c1",
   "metadata": {},
   "outputs": [
    {
     "name": "stdout",
     "output_type": "stream",
     "text": [
      "Joey is 23 years old.\n"
     ]
    }
   ],
   "source": [
    "age=23\n",
    "print(\"%s is %d years old.\"%(name,age))"
   ]
  },
  {
   "cell_type": "markdown",
   "id": "ec1cc9a4",
   "metadata": {},
   "source": [
    "## Print using format"
   ]
  },
  {
   "cell_type": "code",
   "execution_count": 3,
   "id": "12074b52",
   "metadata": {},
   "outputs": [
    {
     "data": {
      "text/plain": [
       "'Art:   453, Price:    59.06'"
      ]
     },
     "execution_count": 3,
     "metadata": {},
     "output_type": "execute_result"
    }
   ],
   "source": [
    "# Positional (Follow index)\n",
    "\"Art: {0:5d}, Price: {1:8.2f}\".format(453, 59.058)"
   ]
  },
  {
   "cell_type": "code",
   "execution_count": 4,
   "id": "66e9b0f1",
   "metadata": {},
   "outputs": [
    {
     "data": {
      "text/plain": [
       "'Art:   453, Price:    59.06'"
      ]
     },
     "execution_count": 4,
     "metadata": {},
     "output_type": "execute_result"
    }
   ],
   "source": [
    "# Keyword\n",
    "\"Art: {a:5d}, Price: {p:8.2f}\".format(a=453, p=59.058)"
   ]
  },
  {
   "cell_type": "code",
   "execution_count": 5,
   "id": "cd4af088",
   "metadata": {},
   "outputs": [
    {
     "data": {
      "text/plain": [
       "'Spam & Eggs:           6.99'"
      ]
     },
     "execution_count": 5,
     "metadata": {},
     "output_type": "execute_result"
    }
   ],
   "source": [
    "# Alignment Left\n",
    "\"{0:<20s} {1:6.2f}\".format('Spam & Eggs:', 6.99)"
   ]
  },
  {
   "cell_type": "code",
   "execution_count": 6,
   "id": "14d33b2d",
   "metadata": {},
   "outputs": [
    {
     "data": {
      "text/plain": [
       "'        Spam & Eggs:   6.99'"
      ]
     },
     "execution_count": 6,
     "metadata": {},
     "output_type": "execute_result"
    }
   ],
   "source": [
    "# Alignment right\n",
    "\"{0:>20s} {1:6.2f}\".format('Spam & Eggs:', 6.99)"
   ]
  },
  {
   "cell_type": "code",
   "execution_count": 7,
   "id": "4e771ba8",
   "metadata": {},
   "outputs": [
    {
     "data": {
      "text/plain": [
       "'    Spam & Eggs:       6.99'"
      ]
     },
     "execution_count": 7,
     "metadata": {},
     "output_type": "execute_result"
    }
   ],
   "source": [
    "# Alignment centre\n",
    "\"{0:^20s} {1:6.2f}\".format('Spam & Eggs:', 6.99)"
   ]
  },
  {
   "cell_type": "code",
   "execution_count": 8,
   "id": "de26e45e",
   "metadata": {},
   "outputs": [
    {
     "data": {
      "text/plain": [
       "'****Spam & Eggs:****   6.99'"
      ]
     },
     "execution_count": 8,
     "metadata": {},
     "output_type": "execute_result"
    }
   ],
   "source": [
    "# Alignment centre with padding character *\n",
    "\"{0:*^20s} {1:6.2f}\".format('Spam & Eggs:', 6.99)"
   ]
  },
  {
   "cell_type": "code",
   "execution_count": 10,
   "id": "b958004e",
   "metadata": {},
   "outputs": [
    {
     "name": "stdout",
     "output_type": "stream",
     "text": [
      "The value is 000378\n",
      "The value is -00378\n"
     ]
    }
   ],
   "source": [
    "# Zero Padding\n",
    "x = 378\n",
    "print(\"The value is {:06d}\".format(x))\n",
    "x = -378\n",
    "print(\"The value is {:06d}\".format(x))"
   ]
  },
  {
   "cell_type": "code",
   "execution_count": null,
   "id": "f63ae6a7",
   "metadata": {},
   "outputs": [],
   "source": []
  }
 ],
 "metadata": {
  "kernelspec": {
   "display_name": "Python 3",
   "language": "python",
   "name": "python3"
  },
  "language_info": {
   "codemirror_mode": {
    "name": "ipython",
    "version": 3
   },
   "file_extension": ".py",
   "mimetype": "text/x-python",
   "name": "python",
   "nbconvert_exporter": "python",
   "pygments_lexer": "ipython3",
   "version": "3.7.6"
  }
 },
 "nbformat": 4,
 "nbformat_minor": 5
}
