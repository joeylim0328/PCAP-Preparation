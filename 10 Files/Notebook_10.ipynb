{
 "cells": [
  {
   "cell_type": "markdown",
   "id": "4ec38338",
   "metadata": {},
   "source": [
    "# 10 Files"
   ]
  },
  {
   "cell_type": "markdown",
   "id": "61a1638e",
   "metadata": {},
   "source": [
    "## File Handling\n",
    "There are four different methods (modes) for opening a file:\n",
    "1. \"r\" - Read - Default value. Opens a file for reading, error if the file does not exist\n",
    "2. \"a\" - Append - Opens a file for appending, creates the file if it does not exist\n",
    "3. \"w\" - Write - Opens a file for writing, creates the file if it does not exist\n",
    "4. \"x\" - Create - Creates the specified file, returns an error if the file exists\n",
    "5. \"t\" - Text - Default value. Text mode\n",
    "6. \"b\" - Binary - Binary mode (e.g. images)"
   ]
  },
  {
   "cell_type": "code",
   "execution_count": 2,
   "id": "c5767fee",
   "metadata": {},
   "outputs": [],
   "source": [
    "# Open a file on the server\n",
    "f = open(\"test.txt\", \"r\")\n",
    "f = open(\"test.txt\", \"a\")\n",
    "f = open(\"test.txt\", \"w\")\n",
    "f = open(\"new_test.txt\", \"x\")"
   ]
  },
  {
   "cell_type": "markdown",
   "id": "85e0c46b",
   "metadata": {},
   "source": [
    "### Read data"
   ]
  },
  {
   "cell_type": "code",
   "execution_count": 7,
   "id": "b0fd0e14",
   "metadata": {},
   "outputs": [
    {
     "name": "stdout",
     "output_type": "stream",
     "text": [
      "Hello, Joey\n"
     ]
    }
   ],
   "source": [
    "f=open(\"test.txt\",\"r\")\n",
    "print(f.read())"
   ]
  },
  {
   "cell_type": "code",
   "execution_count": 9,
   "id": "460801ae",
   "metadata": {},
   "outputs": [
    {
     "name": "stdout",
     "output_type": "stream",
     "text": [
      "Hello\n"
     ]
    }
   ],
   "source": [
    "f=open(\"test.txt\",\"r\")\n",
    "print(f.read(5))"
   ]
  },
  {
   "cell_type": "markdown",
   "id": "755959e5",
   "metadata": {},
   "source": [
    "### Read lines"
   ]
  },
  {
   "cell_type": "code",
   "execution_count": 10,
   "id": "c8551625",
   "metadata": {},
   "outputs": [
    {
     "name": "stdout",
     "output_type": "stream",
     "text": [
      "Hello, Joey.\n",
      "\n"
     ]
    }
   ],
   "source": [
    "f=open(\"test2.txt\",\"r\")\n",
    "print(f.readline())"
   ]
  },
  {
   "cell_type": "code",
   "execution_count": 11,
   "id": "30f7e05e",
   "metadata": {},
   "outputs": [
    {
     "name": "stdout",
     "output_type": "stream",
     "text": [
      "Hello, Joey.\n",
      "\n",
      "I am your friend.\n"
     ]
    }
   ],
   "source": [
    "f=open(\"test2.txt\",\"r\")\n",
    "print(f.readline())\n",
    "print(f.readline())"
   ]
  },
  {
   "cell_type": "markdown",
   "id": "30298e6f",
   "metadata": {},
   "source": [
    "### Read all the lines"
   ]
  },
  {
   "cell_type": "code",
   "execution_count": 12,
   "id": "5a124259",
   "metadata": {},
   "outputs": [
    {
     "name": "stdout",
     "output_type": "stream",
     "text": [
      "Hello, Joey.\n",
      "\n",
      "I am your friend.\n"
     ]
    }
   ],
   "source": [
    "f = open(\"test2.txt\", \"r\")\n",
    "for x in f:\n",
    "    print(x)"
   ]
  },
  {
   "cell_type": "markdown",
   "id": "e5f76473",
   "metadata": {},
   "source": [
    "### Writing to an existing file"
   ]
  },
  {
   "cell_type": "code",
   "execution_count": 14,
   "id": "2bdde000",
   "metadata": {},
   "outputs": [
    {
     "data": {
      "text/plain": [
       "19"
      ]
     },
     "execution_count": 14,
     "metadata": {},
     "output_type": "execute_result"
    }
   ],
   "source": [
    "f=open(\"test.txt\",\"a\") # Append= will append to the end of the file\n",
    "f.write(\"Another extra line!\")"
   ]
  },
  {
   "cell_type": "code",
   "execution_count": 15,
   "id": "f75f476b",
   "metadata": {},
   "outputs": [
    {
     "data": {
      "text/plain": [
       "32"
      ]
     },
     "execution_count": 15,
     "metadata": {},
     "output_type": "execute_result"
    }
   ],
   "source": [
    "f = open(\"test.txt\", \"w\") # Write - will overwrite any existing content\n",
    "f.write(\"Existing file content is deleted\")"
   ]
  },
  {
   "cell_type": "markdown",
   "id": "e0eff297",
   "metadata": {},
   "source": [
    "### Writing to a new file"
   ]
  },
  {
   "cell_type": "code",
   "execution_count": 17,
   "id": "8218c6d3",
   "metadata": {},
   "outputs": [
    {
     "data": {
      "text/plain": [
       "27"
      ]
     },
     "execution_count": 17,
     "metadata": {},
     "output_type": "execute_result"
    }
   ],
   "source": [
    "f = open(\"test3.txt\", \"x\") # Create - will create a file, returns an error if the file exist\n",
    "f.write(\"Now the file has a new line\")"
   ]
  },
  {
   "cell_type": "markdown",
   "id": "438b5dcc",
   "metadata": {},
   "source": [
    "### Delete a File"
   ]
  },
  {
   "cell_type": "code",
   "execution_count": 19,
   "id": "6e504095",
   "metadata": {},
   "outputs": [],
   "source": [
    "import os\n",
    "os.remove(\"new_test.txt\")"
   ]
  },
  {
   "cell_type": "markdown",
   "id": "e7205d9e",
   "metadata": {},
   "source": [
    "### Check if File exist"
   ]
  },
  {
   "cell_type": "code",
   "execution_count": 20,
   "id": "635fdfe3",
   "metadata": {},
   "outputs": [
    {
     "name": "stdout",
     "output_type": "stream",
     "text": [
      "The file exists\n"
     ]
    }
   ],
   "source": [
    "import os\n",
    "\n",
    "if os.path.exists(\"test2.txt\"):\n",
    "    print(\"The file exists\")\n",
    "    \n",
    "else:\n",
    "    print(\"The file does not exist\")"
   ]
  },
  {
   "cell_type": "markdown",
   "id": "14fda742",
   "metadata": {},
   "source": [
    "## With Statement\n",
    "1. The with statement gives better syntax and exceptions handling.\n",
    "2. The with statement simplifies exception handling by encapsulating common preparation and cleanup tasks.\n",
    "3. It will automatically close the file."
   ]
  },
  {
   "cell_type": "code",
   "execution_count": 21,
   "id": "05bec894",
   "metadata": {},
   "outputs": [],
   "source": [
    "# Reading file\n",
    "with open (\"test.txt\") as file:\n",
    "    data=file.read()"
   ]
  }
 ],
 "metadata": {
  "kernelspec": {
   "display_name": "Python 3",
   "language": "python",
   "name": "python3"
  },
  "language_info": {
   "codemirror_mode": {
    "name": "ipython",
    "version": 3
   },
   "file_extension": ".py",
   "mimetype": "text/x-python",
   "name": "python",
   "nbconvert_exporter": "python",
   "pygments_lexer": "ipython3",
   "version": "3.7.6"
  }
 },
 "nbformat": 4,
 "nbformat_minor": 5
}
