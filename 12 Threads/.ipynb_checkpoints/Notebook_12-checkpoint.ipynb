{
 "cells": [
  {
   "cell_type": "markdown",
   "id": "7182ffcc",
   "metadata": {},
   "source": [
    "# 12 Threads\n",
    "1. Threads, sometimes called light-weight processes and they do not require much memory overhead; they are cheaper than processes.\n",
    "2. Running several threads is similar to running several different programs concurrently.\n",
    "3. Multiple threads within a process share the same data space with the main thread and can therefore share information or communicate with each other more easily than if they were seprate processes.\n",
    "4. A thread has a beginning, an execution sequence, and a conclusion.\n",
    "5. Threads can be pre-empted (interrupted), temporarily be put on hold (sleeping) while other threads are running (yielding)."
   ]
  },
  {
   "cell_type": "markdown",
   "id": "fe385e31",
   "metadata": {},
   "source": [
    "## Thread Module"
   ]
  },
  {
   "cell_type": "code",
   "execution_count": 4,
   "id": "ee3959b8",
   "metadata": {},
   "outputs": [
    {
     "name": "stdout",
     "output_type": "stream",
     "text": [
      "Thread-1: Thu May 26 22:28:30 2022\n",
      "Thread-2: Thu May 26 22:28:32 2022\n",
      "Thread-1: Thu May 26 22:28:32 2022\n",
      "Thread-1: Thu May 26 22:28:34 2022\n",
      "Thread-2: Thu May 26 22:28:36 2022\n",
      "Thread-1: Thu May 26 22:28:36 2022\n",
      "Thread-1: Thu May 26 22:28:38 2022\n",
      "Thread-2: Thu May 26 22:28:40 2022\n",
      "Thread-2: Thu May 26 22:28:44 2022\n",
      "Thread-2: Thu May 26 22:28:48 2022\n"
     ]
    },
    {
     "ename": "KeyboardInterrupt",
     "evalue": "",
     "output_type": "error",
     "traceback": [
      "\u001b[1;31m---------------------------------------------------------------------------\u001b[0m",
      "\u001b[1;31mKeyboardInterrupt\u001b[0m                         Traceback (most recent call last)",
      "\u001b[1;32m<ipython-input-4-53d0a810289e>\u001b[0m in \u001b[0;36m<module>\u001b[1;34m\u001b[0m\n\u001b[0;32m     15\u001b[0m     \u001b[0mprint\u001b[0m \u001b[1;33m(\u001b[0m\u001b[1;34m\"Error: unable to start thread\"\u001b[0m\u001b[1;33m)\u001b[0m\u001b[1;33m\u001b[0m\u001b[1;33m\u001b[0m\u001b[0m\n\u001b[0;32m     16\u001b[0m \u001b[1;32mwhile\u001b[0m \u001b[1;36m1\u001b[0m\u001b[1;33m:\u001b[0m\u001b[1;33m\u001b[0m\u001b[1;33m\u001b[0m\u001b[0m\n\u001b[1;32m---> 17\u001b[1;33m     \u001b[1;32mpass\u001b[0m\u001b[1;33m\u001b[0m\u001b[1;33m\u001b[0m\u001b[0m\n\u001b[0m",
      "\u001b[1;31mKeyboardInterrupt\u001b[0m: "
     ]
    }
   ],
   "source": [
    "import _thread\n",
    "import time\n",
    "\n",
    "# Define a function for the thread\n",
    "def print_time( threadName, delay):\n",
    "    count = 0\n",
    "    while count < 5:\n",
    "        time.sleep(delay)\n",
    "        count += 1\n",
    "        print (\"%s: %s\" % ( threadName, time.ctime(time.time()) ))\n",
    "try:\n",
    "    _thread.start_new_thread( print_time, (\"Thread-1\", 2, ) )\n",
    "    _thread.start_new_thread( print_time, (\"Thread-2\", 4, ) )\n",
    "except:\n",
    "    print (\"Error: unable to start thread\")\n",
    "while 1:\n",
    "    pass"
   ]
  },
  {
   "cell_type": "markdown",
   "id": "26f70337",
   "metadata": {},
   "source": [
    "## Threading Module\n",
    "The newer threading module provides much more powerful, high-level support for threads than the thread module."
   ]
  },
  {
   "cell_type": "code",
   "execution_count": null,
   "id": "dd0a7dbc",
   "metadata": {},
   "outputs": [],
   "source": []
  }
 ],
 "metadata": {
  "kernelspec": {
   "display_name": "Python 3",
   "language": "python",
   "name": "python3"
  },
  "language_info": {
   "codemirror_mode": {
    "name": "ipython",
    "version": 3
   },
   "file_extension": ".py",
   "mimetype": "text/x-python",
   "name": "python",
   "nbconvert_exporter": "python",
   "pygments_lexer": "ipython3",
   "version": "3.7.6"
  }
 },
 "nbformat": 4,
 "nbformat_minor": 5
}
