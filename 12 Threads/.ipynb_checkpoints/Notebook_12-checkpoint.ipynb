{
 "cells": [
  {
   "cell_type": "markdown",
   "id": "7182ffcc",
   "metadata": {},
   "source": [
    "# 12 Threads\n",
    "1. Threads, sometimes called light-weight processes and they do not require much memory overhead; they are cheaper than processes.\n",
    "2. Running several threads is similar to running several different programs concurrently.\n",
    "3. Multiple threads within a process share the same data space with the main thread and can therefore share information or communicate with each other more easily than if they were seprate processes.\n",
    "4. A thread has a beginning, an execution sequence, and a conclusion.\n",
    "5. Threads can be pre-empted (interrupted), temporarily be put on hold (sleeping) while other threads are running (yielding)."
   ]
  },
  {
   "cell_type": "markdown",
   "id": "fe385e31",
   "metadata": {},
   "source": [
    "## Thread Module"
   ]
  },
  {
   "cell_type": "code",
   "execution_count": 4,
   "id": "ee3959b8",
   "metadata": {},
   "outputs": [
    {
     "name": "stdout",
     "output_type": "stream",
     "text": [
      "Thread-1: Thu May 26 22:28:30 2022\n",
      "Thread-2: Thu May 26 22:28:32 2022\n",
      "Thread-1: Thu May 26 22:28:32 2022\n",
      "Thread-1: Thu May 26 22:28:34 2022\n",
      "Thread-2: Thu May 26 22:28:36 2022\n",
      "Thread-1: Thu May 26 22:28:36 2022\n",
      "Thread-1: Thu May 26 22:28:38 2022\n",
      "Thread-2: Thu May 26 22:28:40 2022\n",
      "Thread-2: Thu May 26 22:28:44 2022\n",
      "Thread-2: Thu May 26 22:28:48 2022\n"
     ]
    },
    {
     "ename": "KeyboardInterrupt",
     "evalue": "",
     "output_type": "error",
     "traceback": [
      "\u001b[1;31m---------------------------------------------------------------------------\u001b[0m",
      "\u001b[1;31mKeyboardInterrupt\u001b[0m                         Traceback (most recent call last)",
      "\u001b[1;32m<ipython-input-4-53d0a810289e>\u001b[0m in \u001b[0;36m<module>\u001b[1;34m\u001b[0m\n\u001b[0;32m     15\u001b[0m     \u001b[0mprint\u001b[0m \u001b[1;33m(\u001b[0m\u001b[1;34m\"Error: unable to start thread\"\u001b[0m\u001b[1;33m)\u001b[0m\u001b[1;33m\u001b[0m\u001b[1;33m\u001b[0m\u001b[0m\n\u001b[0;32m     16\u001b[0m \u001b[1;32mwhile\u001b[0m \u001b[1;36m1\u001b[0m\u001b[1;33m:\u001b[0m\u001b[1;33m\u001b[0m\u001b[1;33m\u001b[0m\u001b[0m\n\u001b[1;32m---> 17\u001b[1;33m     \u001b[1;32mpass\u001b[0m\u001b[1;33m\u001b[0m\u001b[1;33m\u001b[0m\u001b[0m\n\u001b[0m",
      "\u001b[1;31mKeyboardInterrupt\u001b[0m: "
     ]
    }
   ],
   "source": [
    "import _thread\n",
    "import time\n",
    "\n",
    "# Define a function for the thread\n",
    "def print_time( threadName, delay):\n",
    "    count = 0\n",
    "    while count < 5:\n",
    "        time.sleep(delay)\n",
    "        count += 1\n",
    "        print (\"%s: %s\" % ( threadName, time.ctime(time.time()) ))\n",
    "try:\n",
    "    _thread.start_new_thread( print_time, (\"Thread-1\", 2, ) )\n",
    "    _thread.start_new_thread( print_time, (\"Thread-2\", 4, ) )\n",
    "except:\n",
    "    print (\"Error: unable to start thread\")\n",
    "while 1:\n",
    "    pass"
   ]
  },
  {
   "cell_type": "markdown",
   "id": "26f70337",
   "metadata": {},
   "source": [
    "## Threading Module\n",
    "The newer threading module provides much more powerful, high-level support for threads than the thread module. The threading module exposes all the methods of the thread module and provides additional methods:\n",
    "1. threading.activeCount(): Returns the number of thread objects that are active.\n",
    "2. threading.currentThread(): Returns the number of thread objects in the caller's thread control.\n",
    "3. threading.enumerate(): Returns a list of all thread objects that are currently active."
   ]
  },
  {
   "cell_type": "markdown",
   "id": "0663e65d",
   "metadata": {},
   "source": [
    "In addition to the new methods, the threading module also has the Thread class that implements threading. The methods provided by the Thread class are as follows:\n",
    "1. run(): Entry point for a thread.\n",
    "2. start(): Starts a thread by calling the run method.\n",
    "3. join([time]): Waits for the threads to terminate.\n",
    "4. isAlive(): Checks whether a thread is still executing.\n",
    "5. getName(): Returns the name of a thread.\n",
    "6. setName(): Sets the name of a thread."
   ]
  },
  {
   "cell_type": "markdown",
   "id": "4a417e58",
   "metadata": {},
   "source": [
    "## Creating Thread\n",
    "To implement a new thread using the Threading module, the steps are:\n",
    "1. Define a new subclass of the Thread class.\n",
    "2. Override the init (self [,args]) method to add additional arguments.\n",
    "3. Override the run (self [,args]) method to implement what the thread should do when started.\n",
    "\n",
    "Once the new Thread subclass is created, create an instance of it and then start a new thread by invoking the start(), which in turn calls run() method."
   ]
  },
  {
   "cell_type": "code",
   "execution_count": 29,
   "id": "fd02bd82",
   "metadata": {},
   "outputs": [
    {
     "name": "stdout",
     "output_type": "stream",
     "text": [
      "Starting Thread-1\n",
      "Starting Thread-2\n",
      "Exiting main thread\n",
      "Thread-1: Fri May 27 16:49:36 2022\n",
      "Thread-2: Fri May 27 16:49:37 2022\n",
      "Thread-1: Fri May 27 16:49:37 2022\n",
      "Thread-1: Fri May 27 16:49:38 2022\n",
      "Thread-1: Fri May 27 16:49:39 2022Thread-2: Fri May 27 16:49:39 2022\n",
      "\n",
      "Thread-1: Fri May 27 16:49:40 2022\n",
      "Exiting Thread-1\n",
      "Thread-2: Fri May 27 16:49:41 2022\n",
      "Thread-2: Fri May 27 16:49:43 2022\n",
      "Thread-2: Fri May 27 16:49:45 2022\n",
      "Exiting Thread-2\n"
     ]
    }
   ],
   "source": [
    "import threading\n",
    "import time\n",
    "exitFlag=0\n",
    "\n",
    "class myThread(threading.Thread):\n",
    "    def __init__(self, threadID, name, counter):\n",
    "        threading.Thread.__init__(self)\n",
    "        self.threadID = threadID\n",
    "        self.name = name\n",
    "        self.counter = counter\n",
    "    \n",
    "    def run(self):\n",
    "        print (\"Starting \" + self.name)\n",
    "        print_time(self.name,self.counter,5)\n",
    "        print (\"Exiting \" + self.name)\n",
    "        \n",
    "    def print_time(threadName, delay,counter):\n",
    "        while counter:\n",
    "            if exitFlag:\n",
    "                threadName.exit()\n",
    "            time.sleep(delay)\n",
    "            print (\"%s: %s\" % (threadName,time.ctime(time.time())))\n",
    "            counter -= 1\n",
    "    \n",
    "# Create new threads\n",
    "thread1=myThread(1,\"Thread-1\",1)\n",
    "thread2=myThread(2,\"Thread-2\",2)\n",
    "\n",
    "# Start new Threads\n",
    "thread1.start()\n",
    "thread2.start()\n",
    "print(\"Exiting main thread\")"
   ]
  },
  {
   "cell_type": "markdown",
   "id": "48a6face",
   "metadata": {},
   "source": [
    "## Synchronizing Threads\n",
    "1. The threading module includes a simple-to-implement locking mechanism that allows to synchronize threads. A new lock is created by calling the Lock() method, which return a new lock.\n",
    "2. The acquire(blocking) method of the new lock object is used to force threads to run synchrounously. \n",
    "3. If blocking is set to 0, the thread returns immediately with a 0 if the lock cannot be acquired and with a 1 if the lock was acquired. If blocking is set to 1, the thread blocks and wait for the lock to be released.\n",
    "4. The release() method of the new lock object is used to release the lock when it is no longer required."
   ]
  },
  {
   "cell_type": "code",
   "execution_count": 31,
   "id": "f2e0e633",
   "metadata": {},
   "outputs": [
    {
     "name": "stdout",
     "output_type": "stream",
     "text": [
      "Starting Thread-1\n",
      "Starting Thread-2\n",
      "Thread-1: Fri May 27 16:51:57 2022\n",
      "Thread-1: Fri May 27 16:51:58 2022\n",
      "Thread-1: Fri May 27 16:51:59 2022\n",
      "Thread-2: Fri May 27 16:52:01 2022\n",
      "Thread-2: Fri May 27 16:52:03 2022\n",
      "Thread-2: Fri May 27 16:52:05 2022\n",
      "Exiting Main Thread\n"
     ]
    }
   ],
   "source": [
    "class myThread (threading.Thread):\n",
    "    def __init__(self, threadID, name, counter):\n",
    "        threading.Thread.__init__(self)\n",
    "        self.threadID = threadID\n",
    "        self.name = name\n",
    "        self.counter = counter\n",
    "    def run(self):\n",
    "        print (\"Starting \" + self.name)\n",
    "        # Get lock to synchronize threads\n",
    "        threadLock.acquire()\n",
    "        print_time(self.name, self.counter, 3)\n",
    "        # Free lock to release next thread\n",
    "        threadLock.release()\n",
    "        \n",
    "    def print_time(threadName, delay,counter):\n",
    "        while counter:\n",
    "            if exitFlag:\n",
    "                threadName.exit()\n",
    "            time.sleep(delay)\n",
    "            print (\"%s: %s\" % (threadName,time.ctime(time.time())))\n",
    "            counter -= 1\n",
    "threadLock=threading.Lock()\n",
    "threads=[]\n",
    "thread1 = myThread(1, \"Thread-1\", 1) # Create new threads\n",
    "thread2 = myThread(2, \"Thread-2\", 2) # Create new threads\n",
    "thread1.start() # Start new Threads\n",
    "thread2.start() # Start new Threads\n",
    "threads.append(thread1) # Add threads to thread list\n",
    "threads.append(thread2) # Add threads to thread list\n",
    "for t in threads: # Wait for all threads to complete\n",
    "    t.join()\n",
    "print (\"Exiting Main Thread\")"
   ]
  },
  {
   "cell_type": "markdown",
   "id": "8de543c5",
   "metadata": {},
   "source": [
    "## Multithreaded Priority Queue\n",
    "The Queue module allows to create a new queue object that can hold a specific number of items:\n",
    "1. get(): Removes and returns an item from the queue.\n",
    "2. put(): Adds item to the queue.\n",
    "3. qsize(): Returns the number of items that are currently in the queue.\n",
    "4. empty(): Returns True if the queue is empty.\n",
    "5. full(): Returns True if queue is full."
   ]
  },
  {
   "cell_type": "code",
   "execution_count": 40,
   "id": "e16d1042",
   "metadata": {},
   "outputs": [
    {
     "name": "stdout",
     "output_type": "stream",
     "text": [
      "Starting Thread-1\n",
      "Starting Thread-2\n",
      "Starting Thread-3\n",
      "Thread-3 processing One\n",
      "Thread-3 processing Two\n",
      "Thread-3 processing Three\n",
      "Thread-3 processing Four\n",
      "Thread-3 processing Five\n",
      "Exiting Thread-2Exiting Thread-1\n",
      "\n",
      "Exiting Thread-3\n",
      "Exiting Main Thread\n"
     ]
    }
   ],
   "source": [
    "import queue\n",
    "import threading\n",
    "import time\n",
    "\n",
    "exitFlag = 0\n",
    "\n",
    "class myThread (threading.Thread):\n",
    "   def __init__(self, threadID, name, q):\n",
    "      threading.Thread.__init__(self)\n",
    "      self.threadID = threadID\n",
    "      self.name = name\n",
    "      self.q = q\n",
    "   def run(self):\n",
    "      print (\"Starting \" + self.name)\n",
    "      process_data(self.name, self.q)\n",
    "      print (\"Exiting \" + self.name)\n",
    "\n",
    "def process_data(threadName, q):\n",
    "   while not exitFlag:\n",
    "      queueLock.acquire()\n",
    "      if not workQueue.empty():\n",
    "         data = q.get()\n",
    "         queueLock.release()\n",
    "         print (\"%s processing %s\" % (threadName, data))\n",
    "      else:\n",
    "         queueLock.release()\n",
    "         time.sleep(1)\n",
    "\n",
    "threadList = [\"Thread-1\", \"Thread-2\", \"Thread-3\"]\n",
    "nameList = [\"One\", \"Two\", \"Three\", \"Four\", \"Five\"]\n",
    "queueLock = threading.Lock()\n",
    "workQueue = queue.Queue(10)\n",
    "threads = []\n",
    "threadID = 1\n",
    "\n",
    "# Create new threads\n",
    "for tName in threadList:\n",
    "   thread = myThread(threadID, tName, workQueue)\n",
    "   thread.start()\n",
    "   threads.append(thread)\n",
    "   threadID += 1\n",
    "\n",
    "# Fill the queue\n",
    "queueLock.acquire()\n",
    "for word in nameList:\n",
    "   workQueue.put(word)\n",
    "queueLock.release()\n",
    "\n",
    "# Wait for queue to empty\n",
    "while not workQueue.empty():\n",
    "   pass\n",
    "\n",
    "# Notify threads it's time to exit\n",
    "exitFlag = 1\n",
    "\n",
    "# Wait for all threads to complete\n",
    "for t in threads:\n",
    "   t.join()\n",
    "print (\"Exiting Main Thread\")"
   ]
  }
 ],
 "metadata": {
  "kernelspec": {
   "display_name": "Python 3",
   "language": "python",
   "name": "python3"
  },
  "language_info": {
   "codemirror_mode": {
    "name": "ipython",
    "version": 3
   },
   "file_extension": ".py",
   "mimetype": "text/x-python",
   "name": "python",
   "nbconvert_exporter": "python",
   "pygments_lexer": "ipython3",
   "version": "3.7.6"
  }
 },
 "nbformat": 4,
 "nbformat_minor": 5
}
