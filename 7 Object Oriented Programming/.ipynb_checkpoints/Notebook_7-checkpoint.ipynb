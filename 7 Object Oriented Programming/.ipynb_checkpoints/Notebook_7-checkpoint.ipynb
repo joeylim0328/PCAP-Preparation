{
 "cells": [
  {
   "cell_type": "markdown",
   "id": "138a040a",
   "metadata": {},
   "source": [
    "#  7 Object Oriented Programming\n",
    "OOP provides a means of structuring programs so that properties and behaviours are bundled into individual objects.\n"
   ]
  },
  {
   "cell_type": "markdown",
   "id": "cad6cf25",
   "metadata": {},
   "source": [
    "## Class\n",
    "Classes are used to create user-defined data structures that contains attributes such as class variables and class methods."
   ]
  },
  {
   "cell_type": "code",
   "execution_count": 1,
   "id": "25a7ef76",
   "metadata": {},
   "outputs": [],
   "source": [
    "class Person:\n",
    "    first_name=\"\" # public class variable\n",
    "    __ic_number=\"\" # private class variable\n",
    "    \n",
    "    def setIcNumber(number): # public class method\n",
    "        Person.__ic_number=number # Access private class variable\n",
    "        \n",
    "    def getIcNumber(): # public class method\n",
    "        return Person.__ic_number # Access private class variable\n"
   ]
  },
  {
   "cell_type": "code",
   "execution_count": 2,
   "id": "ef8a7372",
   "metadata": {},
   "outputs": [
    {
     "name": "stdout",
     "output_type": "stream",
     "text": [
      "Joey\n"
     ]
    }
   ],
   "source": [
    "Person.first_name=\"Joey\"\n",
    "print(Person.first_name)"
   ]
  },
  {
   "cell_type": "code",
   "execution_count": 3,
   "id": "1ce68e81",
   "metadata": {},
   "outputs": [
    {
     "name": "stdout",
     "output_type": "stream",
     "text": [
      "9999\n"
     ]
    }
   ],
   "source": [
    "Person.setIcNumber(9999)\n",
    "print(Person.getIcNumber())"
   ]
  },
  {
   "cell_type": "code",
   "execution_count": 4,
   "id": "6cf55b5d",
   "metadata": {},
   "outputs": [],
   "source": [
    "class Person:\n",
    "    \"\"\"Person class contains first_name and ic_number\"\"\"\n",
    "    first_name=\"\"\n",
    "    ic_number=\"\"\n",
    "    def display():\n",
    "        print(Person.first_name)\n",
    "        print(Person.ic_number)"
   ]
  },
  {
   "cell_type": "code",
   "execution_count": 5,
   "id": "54edbbdc",
   "metadata": {},
   "outputs": [
    {
     "name": "stdout",
     "output_type": "stream",
     "text": [
      "Person class contains first_name and ic_number\n"
     ]
    }
   ],
   "source": [
    "print(Person.__doc__)"
   ]
  },
  {
   "cell_type": "code",
   "execution_count": 6,
   "id": "f0c6705f",
   "metadata": {},
   "outputs": [
    {
     "name": "stdout",
     "output_type": "stream",
     "text": [
      "Person\n"
     ]
    }
   ],
   "source": [
    "print(Person.__name__)"
   ]
  },
  {
   "cell_type": "code",
   "execution_count": 7,
   "id": "c3d7b2e5",
   "metadata": {},
   "outputs": [
    {
     "name": "stdout",
     "output_type": "stream",
     "text": [
      "{'__module__': '__main__', '__doc__': 'Person class contains first_name and ic_number', 'first_name': '', 'ic_number': '', 'display': <function Person.display at 0x0000025FCEB89708>, '__dict__': <attribute '__dict__' of 'Person' objects>, '__weakref__': <attribute '__weakref__' of 'Person' objects>}\n"
     ]
    }
   ],
   "source": [
    "print(Person.__dict__)"
   ]
  },
  {
   "cell_type": "markdown",
   "id": "00715ba3",
   "metadata": {},
   "source": [
    "Class can be used to create objects. While class is the blueprint, an instance is a copy of the class with actual values. Every object belongs to a specific class."
   ]
  },
  {
   "cell_type": "code",
   "execution_count": 9,
   "id": "140857d2",
   "metadata": {},
   "outputs": [
    {
     "data": {
      "text/plain": [
       "<__main__.Person at 0x25fceb9f288>"
      ]
     },
     "execution_count": 9,
     "metadata": {},
     "output_type": "execute_result"
    }
   ],
   "source": [
    "person=Person()\n",
    "person"
   ]
  },
  {
   "cell_type": "markdown",
   "id": "da900b09",
   "metadata": {},
   "source": [
    "## Object\n",
    "- Unlike class variables, instance variables should be defined within methods. Just as instance variables, there are instance methods. These methods are to set and get instance variables of relevant instance.\n",
    "- Every single instance method takes self as first parameter which represents the instance of the class.\n",
    "- However when calling the instance method, no need to pass anything for the \"self\" argument.\n"
   ]
  },
  {
   "cell_type": "code",
   "execution_count": 10,
   "id": "c49212fb",
   "metadata": {},
   "outputs": [],
   "source": [
    "class Person:\n",
    "    def set_first_name(self,first_name): # Instance method\n",
    "        self.first_name=first_name # Instance variable\n",
    "             "
   ]
  },
  {
   "cell_type": "code",
   "execution_count": 12,
   "id": "ca810762",
   "metadata": {},
   "outputs": [],
   "source": [
    "class Person:\n",
    "    first_name=\"\"\n",
    "    def set_first_name(self):\n",
    "        self.first_name=\"Instance First Name\"\n",
    "        \n",
    "    def modify_first_name():\n",
    "        Person.first_name=\"Class variable First Name\"\n",
    "        \n"
   ]
  },
  {
   "cell_type": "code",
   "execution_count": 13,
   "id": "712977bb",
   "metadata": {},
   "outputs": [
    {
     "name": "stdout",
     "output_type": "stream",
     "text": [
      "\n"
     ]
    }
   ],
   "source": [
    "print(Person.first_name)"
   ]
  },
  {
   "cell_type": "code",
   "execution_count": 15,
   "id": "dab63e77",
   "metadata": {},
   "outputs": [
    {
     "name": "stdout",
     "output_type": "stream",
     "text": [
      "Class variable First Name\n"
     ]
    }
   ],
   "source": [
    "Person.modify_first_name()\n",
    "print(Person.first_name)"
   ]
  },
  {
   "cell_type": "code",
   "execution_count": 16,
   "id": "e7b22a42",
   "metadata": {},
   "outputs": [
    {
     "name": "stdout",
     "output_type": "stream",
     "text": [
      "Class variable First Name\n"
     ]
    }
   ],
   "source": [
    "person=Person()\n",
    "print(person.first_name)"
   ]
  },
  {
   "cell_type": "code",
   "execution_count": 17,
   "id": "5b08c661",
   "metadata": {},
   "outputs": [
    {
     "name": "stdout",
     "output_type": "stream",
     "text": [
      "Instance First Name\n"
     ]
    }
   ],
   "source": [
    "person.set_first_name()\n",
    "print(person.first_name)"
   ]
  },
  {
   "cell_type": "code",
   "execution_count": 18,
   "id": "e1484c6e",
   "metadata": {},
   "outputs": [
    {
     "name": "stdout",
     "output_type": "stream",
     "text": [
      "10\n",
      "15\n"
     ]
    }
   ],
   "source": [
    "class Product:\n",
    "    price=10\n",
    "    def add_price():\n",
    "        Product.price=Product.price+5\n",
    "        \n",
    "print(Product.price)\n",
    "Product.add_price()\n",
    "print(Product.price)"
   ]
  }
 ],
 "metadata": {
  "kernelspec": {
   "display_name": "Python 3",
   "language": "python",
   "name": "python3"
  },
  "language_info": {
   "codemirror_mode": {
    "name": "ipython",
    "version": 3
   },
   "file_extension": ".py",
   "mimetype": "text/x-python",
   "name": "python",
   "nbconvert_exporter": "python",
   "pygments_lexer": "ipython3",
   "version": "3.7.6"
  }
 },
 "nbformat": 4,
 "nbformat_minor": 5
}
