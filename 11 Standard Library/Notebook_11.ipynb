{
 "cells": [
  {
   "cell_type": "markdown",
   "id": "78979bb9",
   "metadata": {},
   "source": [
    "# 11 Standard Library"
   ]
  },
  {
   "cell_type": "markdown",
   "id": "ad564eb3",
   "metadata": {},
   "source": [
    "## OS Module\n",
    "OS module provides functions for interacting with the operating system. This module provides a portable way of using OS dependent funcitonality. The OS module include many functions to interact with the file system: \n",
    "1. os.name: This function gives the name of the operating system dependent module imported.\n",
    "2. os.getlogin(): This method is used to get the user who has logged inside the operating system.\n",
    "3. os.rename(): An old file can be renamed to a new file."
   ]
  },
  {
   "cell_type": "markdown",
   "id": "e4eb948d",
   "metadata": {},
   "source": [
    "### OS Module-Directory\n",
    "A directory or folder is a collection of files and sub directories.\n",
    "1. os.getcwd(): Returns current working directory of the file used to execute the code.\n",
    "2. os.chdir(): Provides a function to change the current working directory.\n",
    "3. os.listdir(): Get all files and sub directories inside a directory.\n",
    "4. os.mkdir(): Makes a new directory.\n",
    "5. os.rename(): Renames a directory.\n",
    "6. os.rmdir(): Remove the empty directory.\n",
    "7. sys.path(): List directories in PYTHONPATH environment variable."
   ]
  },
  {
   "cell_type": "markdown",
   "id": "81b5bcf3",
   "metadata": {},
   "source": [
    "### OS Module-Environment\n",
    "Environment variables are global system variables accessible by all the processes running under the OS.\n",
    "1. os.environ: List all the environment variables (Eg: os.environ['PATH'])\n",
    "2. os.getenv(\"PATH\"): Same as no1.\n",
    "3. os.setenv('LAB','PYTHON'): Change the environment variable\n",
    "4. os.unsetenv('PATH'): Remove the environment variable"
   ]
  },
  {
   "cell_type": "markdown",
   "id": "7dac9a52",
   "metadata": {},
   "source": [
    "### OS Path Module\n",
    "The os.path is another module, which also provides a big range of useful methods to manipulate files and directories:\n",
    "1. os.path.abspath(path): Returns a normalized absolutized version of the pathname path.\n",
    "2. os.path.basename(path): Returns the base name of pathname path.\n",
    "3. os.path.dirname(path): Returns the directory name of pathname path.\n",
    "4. os.path.exists(path): Returns True if path refers to an existing path.\n",
    "5. os.path.getsize(path): Returns the size, in bytes, of path.\n",
    "6. os.path.isdir(path): Returns True if path is an existing directory.\n",
    "7. os.path.isfile(path): Returns True if path is an existing regular file.\n",
    "8. os.path.join(): Joins one or more path components intelligently.\n",
    "9. os.path.split(): Splits pathname path into a pair, (head, tail) where tail is the last pathname component and head is everything leading up to that.\n",
    "10. os.path.splitdrive(): Splits the pathname path into a pair (drive, tail) where drive is either a drive specification or the empty string.\n",
    "11. os.path.samefile(path1, path2): Returns True if both pathname arguments refer to the same file or directory.\n",
    "12. os.path.getatime(path): Returns the time of last access of path.\n",
    "13. os.path.getatime(path): Returns the time of last modification of path."
   ]
  },
  {
   "cell_type": "markdown",
   "id": "d265887f",
   "metadata": {},
   "source": [
    "### OS System Command"
   ]
  },
  {
   "cell_type": "code",
   "execution_count": 2,
   "id": "fc79b3b7",
   "metadata": {},
   "outputs": [
    {
     "name": "stdout",
     "output_type": "stream",
     "text": [
      "returned value: 0\n"
     ]
    }
   ],
   "source": [
    "import os \n",
    "cmd=\"git --version\"\n",
    "\n",
    "returned_value=os.system(cmd)\n",
    "print('returned value:',returned_value)\n",
    "\n",
    "# Stated in cmd\n",
    "# git version 2.26.2.windows.1"
   ]
  },
  {
   "cell_type": "markdown",
   "id": "2212ec05",
   "metadata": {},
   "source": [
    "## Date Time Module"
   ]
  },
  {
   "cell_type": "code",
   "execution_count": 3,
   "id": "80db0789",
   "metadata": {},
   "outputs": [
    {
     "name": "stdout",
     "output_type": "stream",
     "text": [
      "2022-05-26 22:02:43.812828\n"
     ]
    }
   ],
   "source": [
    "# Get the current date and time\n",
    "import datetime\n",
    "datetime_object=datetime.datetime.now()\n",
    "print(datetime_object)"
   ]
  },
  {
   "cell_type": "code",
   "execution_count": 4,
   "id": "65fcff9c",
   "metadata": {},
   "outputs": [
    {
     "name": "stdout",
     "output_type": "stream",
     "text": [
      "2022-05-26\n"
     ]
    }
   ],
   "source": [
    "# Get current date\n",
    "datetime_object=datetime.date.today()\n",
    "print(datetime_object)"
   ]
  },
  {
   "cell_type": "code",
   "execution_count": 6,
   "id": "718b248b",
   "metadata": {},
   "outputs": [
    {
     "name": "stdout",
     "output_type": "stream",
     "text": [
      "2012-01-11\n"
     ]
    }
   ],
   "source": [
    "# Create a Date instance from date class\n",
    "datetime_object=datetime.date(2019,3,28)\n",
    "datetime_object=datetime.date.fromtimestamp(1326244364)\n",
    "print(datetime_object)"
   ]
  },
  {
   "cell_type": "code",
   "execution_count": 7,
   "id": "92cde3c1",
   "metadata": {},
   "outputs": [
    {
     "name": "stdout",
     "output_type": "stream",
     "text": [
      "2017-11-28 23:55:59.342380\n"
     ]
    }
   ],
   "source": [
    "# Create a Date instance from datetime class\n",
    "datetime_object = datetime.datetime(2019, 4, 15)\n",
    "datetime_object = datetime.datetime(2017, 11, 28, 23, 55, 59, 342380)\n",
    "print(datetime_object)"
   ]
  },
  {
   "cell_type": "code",
   "execution_count": 8,
   "id": "fcb6d3d4",
   "metadata": {},
   "outputs": [
    {
     "name": "stdout",
     "output_type": "stream",
     "text": [
      "2022\n",
      "5\n",
      "26\n"
     ]
    }
   ],
   "source": [
    "# Print today's year, month and day\n",
    "today_object = datetime.date.today()\n",
    "print(today_object.year)\n",
    "print(today_object.month)\n",
    "print(today_object.day)"
   ]
  },
  {
   "cell_type": "markdown",
   "id": "c82311ed",
   "metadata": {},
   "source": [
    "### Time Module"
   ]
  },
  {
   "cell_type": "code",
   "execution_count": 9,
   "id": "5399edb5",
   "metadata": {},
   "outputs": [
    {
     "name": "stdout",
     "output_type": "stream",
     "text": [
      "00:00:00\n"
     ]
    }
   ],
   "source": [
    "from datetime import time\n",
    "\n",
    "# time(hour = 0, minute = 0, second = 0)\n",
    "print(time())"
   ]
  },
  {
   "cell_type": "code",
   "execution_count": 10,
   "id": "daf603a9",
   "metadata": {},
   "outputs": [
    {
     "name": "stdout",
     "output_type": "stream",
     "text": [
      "11:34:56\n"
     ]
    }
   ],
   "source": [
    "# time(hour, minute and second)\n",
    "print(time(11, 34, 56))"
   ]
  },
  {
   "cell_type": "code",
   "execution_count": 11,
   "id": "c2f01508",
   "metadata": {},
   "outputs": [
    {
     "name": "stdout",
     "output_type": "stream",
     "text": [
      "11:34:56\n"
     ]
    }
   ],
   "source": [
    "# time(hour, minute and second)\n",
    "print(time(hour = 11, minute = 34, second = 56))"
   ]
  },
  {
   "cell_type": "code",
   "execution_count": 13,
   "id": "987b0090",
   "metadata": {},
   "outputs": [
    {
     "name": "stdout",
     "output_type": "stream",
     "text": [
      "11:34:56.234566\n"
     ]
    }
   ],
   "source": [
    "# time(hour, minute, second, microsecond)\n",
    "print(time(11, 34, 56, 234566))"
   ]
  },
  {
   "cell_type": "code",
   "execution_count": 14,
   "id": "72588cfa",
   "metadata": {},
   "outputs": [
    {
     "name": "stdout",
     "output_type": "stream",
     "text": [
      "hour = 11\n",
      "minute = 34\n",
      "second = 56\n",
      "microsecond = 0\n"
     ]
    }
   ],
   "source": [
    "a = time(11, 34, 56)\n",
    "print(\"hour =\", a.hour)\n",
    "print(\"minute =\", a.minute)\n",
    "print(\"second =\", a.second)\n",
    "print(\"microsecond =\", a.microsecond) # no argument passed, so default value 0 is printed"
   ]
  },
  {
   "cell_type": "markdown",
   "id": "a9c5d3f7",
   "metadata": {},
   "source": [
    "## Math Module"
   ]
  },
  {
   "cell_type": "code",
   "execution_count": 20,
   "id": "a08ea7c8",
   "metadata": {},
   "outputs": [
    {
     "name": "stdout",
     "output_type": "stream",
     "text": [
      "3\n",
      "3\n"
     ]
    }
   ],
   "source": [
    "import math\n",
    "# floor(): This function is used to get the floor value of the given number.\n",
    "\n",
    "print(math.floor(3.6))\n",
    "print(math.floor(3.1))"
   ]
  },
  {
   "cell_type": "code",
   "execution_count": 21,
   "id": "179ede6f",
   "metadata": {},
   "outputs": [
    {
     "name": "stdout",
     "output_type": "stream",
     "text": [
      "4\n",
      "4\n"
     ]
    }
   ],
   "source": [
    "# ceil(): This function is used to get the ceiling value of a given number.\n",
    "print(math.ceil(3.6))\n",
    "print(math.ceil(3.1))"
   ]
  },
  {
   "cell_type": "code",
   "execution_count": 22,
   "id": "318bea99",
   "metadata": {},
   "outputs": [
    {
     "name": "stdout",
     "output_type": "stream",
     "text": [
      "3.0\n",
      "3.4\n"
     ]
    }
   ],
   "source": [
    "# fabs(): This function is used to get the absolute value of a given number.\n",
    "print(math.fabs(-3))\n",
    "print(math.fabs(3.4))"
   ]
  },
  {
   "cell_type": "code",
   "execution_count": 23,
   "id": "c58fd73f",
   "metadata": {},
   "outputs": [
    {
     "name": "stdout",
     "output_type": "stream",
     "text": [
      "0.049787068367863944\n",
      "29.96410004739701\n"
     ]
    }
   ],
   "source": [
    "# exp(): This function is used to get e^x. The value of e is 2.718281\n",
    "print(math.exp(-3))\n",
    "print(math.exp(3.4))"
   ]
  },
  {
   "cell_type": "code",
   "execution_count": 24,
   "id": "96617e0f",
   "metadata": {},
   "outputs": [
    {
     "name": "stdout",
     "output_type": "stream",
     "text": [
      "-0.950212931632136\n",
      "28.96410004739701\n"
     ]
    }
   ],
   "source": [
    "# expm1(): This function is used to get (e^x) – 1.\n",
    "print(math.expm1(-3))\n",
    "print(math.expm1(3.4))"
   ]
  },
  {
   "cell_type": "code",
   "execution_count": 25,
   "id": "b68aa525",
   "metadata": {},
   "outputs": [
    {
     "name": "stdout",
     "output_type": "stream",
     "text": [
      "8.0\n",
      "4.0\n"
     ]
    }
   ],
   "source": [
    "# pow(): This function returns x raised to the power y.\n",
    "print(math.pow(2,3))\n",
    "print(math.pow(2,2))"
   ]
  },
  {
   "cell_type": "code",
   "execution_count": 27,
   "id": "7099ee84",
   "metadata": {},
   "outputs": [
    {
     "name": "stdout",
     "output_type": "stream",
     "text": [
      "1.0986122886681098\n",
      "4.605170185988092\n"
     ]
    }
   ],
   "source": [
    "# log(): This function is used to calculate the log value.\n",
    "print(math.log(3))\n",
    "print(math.log(100))"
   ]
  },
  {
   "cell_type": "code",
   "execution_count": 28,
   "id": "8db0fd60",
   "metadata": {},
   "outputs": [
    {
     "name": "stdout",
     "output_type": "stream",
     "text": [
      "2.0\n",
      "10.0\n"
     ]
    }
   ],
   "source": [
    "# sqrt(): This function is used to get the square root of x.\n",
    "print(math.sqrt(4))\n",
    "print(math.sqrt(100))"
   ]
  },
  {
   "cell_type": "code",
   "execution_count": 29,
   "id": "f7af27ac",
   "metadata": {},
   "outputs": [
    {
     "name": "stdout",
     "output_type": "stream",
     "text": [
      "3.141592653589793\n"
     ]
    }
   ],
   "source": [
    "# pi: The python math module has \"pi\" as a constant.\n",
    "print(math.pi)"
   ]
  },
  {
   "attachments": {
    "img_1.JPG": {
     "image/jpeg": "[encoded data removed]"
    }
   },
   "cell_type": "markdown",
   "id": "17a6661d",
   "metadata": {},
   "source": [
    "![img_1.JPG](attachment:img_1.JPG)"
   ]
  },
  {
   "cell_type": "markdown",
   "id": "9f369a81",
   "metadata": {},
   "source": [
    "## Itertools Module"
   ]
  },
  {
   "cell_type": "markdown",
   "id": "8834eb9a",
   "metadata": {},
   "source": [
    "The chain() function takes several iterators as arguments and returns a single iterator that produces the contents of all of the inputs as though they came from a single iterator."
   ]
  },
  {
   "cell_type": "code",
   "execution_count": 31,
   "id": "eda8a926",
   "metadata": {},
   "outputs": [
    {
     "name": "stdout",
     "output_type": "stream",
     "text": [
      "1\n",
      "2\n",
      "3\n",
      "a\n",
      "b\n",
      "c\n"
     ]
    }
   ],
   "source": [
    "from itertools import *\n",
    "for counter in chain ([1,2,3],['a','b','c']):\n",
    "    print(counter)"
   ]
  },
  {
   "cell_type": "markdown",
   "id": "0638ceb8",
   "metadata": {},
   "source": [
    "The zip() returns an iterator that combines the elements of several iterators into tuples."
   ]
  },
  {
   "cell_type": "code",
   "execution_count": 32,
   "id": "9a90b0c9",
   "metadata": {},
   "outputs": [
    {
     "name": "stdout",
     "output_type": "stream",
     "text": [
      "(1, 'a')\n",
      "(2, 'b')\n",
      "(3, 'c')\n"
     ]
    }
   ],
   "source": [
    "for counter in zip([1,2,3],['a','b','c']):\n",
    "    print(counter)"
   ]
  },
  {
   "cell_type": "markdown",
   "id": "c088f6c5",
   "metadata": {},
   "source": [
    "The islice() returns an iterator which returns selected items from the input iterator, by index."
   ]
  },
  {
   "cell_type": "code",
   "execution_count": 33,
   "id": "b8cc084c",
   "metadata": {},
   "outputs": [
    {
     "name": "stdout",
     "output_type": "stream",
     "text": [
      "0\n",
      "1\n",
      "2\n",
      "3\n",
      "4\n"
     ]
    }
   ],
   "source": [
    "for counter in islice(range(100),5):\n",
    "    print(counter)"
   ]
  },
  {
   "cell_type": "markdown",
   "id": "12a7e123",
   "metadata": {},
   "source": [
    "The tee() will create n iterators from a single iterator. This means tee allow us to create multiple iterators from one iterable."
   ]
  },
  {
   "cell_type": "code",
   "execution_count": 34,
   "id": "c9c5620c",
   "metadata": {},
   "outputs": [
    {
     "name": "stdout",
     "output_type": "stream",
     "text": [
      "A\n",
      "B\n",
      "C\n",
      "D\n",
      "E\n",
      "A\n",
      "B\n",
      "C\n",
      "D\n",
      "E\n"
     ]
    }
   ],
   "source": [
    "data='ABCDE'\n",
    "\n",
    "iter1,iter2=tee(data)\n",
    "\n",
    "for item in iter1:\n",
    "    print(item)\n",
    "\n",
    "for item in iter2:\n",
    "    print(item)"
   ]
  }
 ],
 "metadata": {
  "kernelspec": {
   "display_name": "Python 3",
   "language": "python",
   "name": "python3"
  },
  "language_info": {
   "codemirror_mode": {
    "name": "ipython",
    "version": 3
   },
   "file_extension": ".py",
   "mimetype": "text/x-python",
   "name": "python",
   "nbconvert_exporter": "python",
   "pygments_lexer": "ipython3",
   "version": "3.7.6"
  }
 },
 "nbformat": 4,
 "nbformat_minor": 5
}
