{
 "cells": [
  {
   "cell_type": "markdown",
   "id": "b47f4c66",
   "metadata": {},
   "source": [
    "# 9 Exception Handling"
   ]
  },
  {
   "cell_type": "markdown",
   "id": "a07c4c3f",
   "metadata": {},
   "source": [
    "Exceptions can be handled using try statement:\n",
    "1. The try block lets to test a block of code for errors.\n",
    "2. The except block handles the error.\n",
    "3. The code in the finally block gets executed, regardless of the result of the try and except blocks."
   ]
  },
  {
   "cell_type": "code",
   "execution_count": 1,
   "id": "29c81b47",
   "metadata": {},
   "outputs": [
    {
     "name": "stdout",
     "output_type": "stream",
     "text": [
      "Error occurred\n"
     ]
    }
   ],
   "source": [
    "try:\n",
    "    print(x) # Runtime error because name x is not defined\n",
    "except:\n",
    "    print(\"Error occurred\")"
   ]
  },
  {
   "cell_type": "markdown",
   "id": "8affd9f4",
   "metadata": {},
   "source": [
    "## Many Exceptions"
   ]
  },
  {
   "cell_type": "code",
   "execution_count": 2,
   "id": "5b065e49",
   "metadata": {},
   "outputs": [
    {
     "name": "stdout",
     "output_type": "stream",
     "text": [
      "Variable X is not defined\n"
     ]
    }
   ],
   "source": [
    "try:\n",
    "    print(x)\n",
    "except NameError:\n",
    "    print(\"Variable X is not defined\")\n",
    "except TypeError:\n",
    "    print(\"Cannot concatenate str with int\")\n",
    "except:\n",
    "    print(\"Something else went wrong\")"
   ]
  },
  {
   "cell_type": "markdown",
   "id": "de01b818",
   "metadata": {},
   "source": [
    "## Else\n",
    "Else keyword will be executed if no errors are raised"
   ]
  },
  {
   "cell_type": "code",
   "execution_count": 3,
   "id": "65def1e7",
   "metadata": {},
   "outputs": [
    {
     "name": "stdout",
     "output_type": "stream",
     "text": [
      "10\n",
      "Program executed successfully\n"
     ]
    }
   ],
   "source": [
    "try:\n",
    "    x = 10\n",
    "    print(x)\n",
    "except NameError:\n",
    "    print(\"Variable X is not defined\")\n",
    "except TypeError:\n",
    "    print(\"Cannot concatenate str with int\")\n",
    "except:\n",
    "    print(\"Something else went wrong\")\n",
    "else:\n",
    "    print(\"Program executed successfully\")"
   ]
  },
  {
   "cell_type": "markdown",
   "id": "39194b39",
   "metadata": {},
   "source": [
    "## Finally"
   ]
  },
  {
   "cell_type": "code",
   "execution_count": 4,
   "id": "ea387afb",
   "metadata": {},
   "outputs": [
    {
     "name": "stdout",
     "output_type": "stream",
     "text": [
      "10\n",
      "Program executed successfully\n",
      "Remove the variable x from memory\n"
     ]
    }
   ],
   "source": [
    "try:\n",
    "    x = 10\n",
    "    print(x)\n",
    "except:\n",
    "    print(\"Something else went wrong\")\n",
    "else:\n",
    "    print(\"Program executed successfully\")\n",
    "finally:\n",
    "    print(\"Remove the variable x from memory\")"
   ]
  },
  {
   "cell_type": "markdown",
   "id": "9ab97d52",
   "metadata": {},
   "source": [
    "## Custom Exceptions\n",
    "Programmers may name their own exceptions by creating a new exception class."
   ]
  },
  {
   "cell_type": "code",
   "execution_count": 5,
   "id": "7b28035b",
   "metadata": {},
   "outputs": [],
   "source": [
    "class NoBalance(Exception):\n",
    "    \n",
    "    # Constructor\n",
    "    def __init__(self,value):\n",
    "        self.value=value\n",
    "    \n",
    "    # __str__ is to print() the value\n",
    "    def __str__(self):\n",
    "        message=\"Balance cannot be: \"\n",
    "        return (message+repr(self.value))\n",
    "    \n",
    "    "
   ]
  },
  {
   "cell_type": "code",
   "execution_count": 6,
   "id": "f61b070d",
   "metadata": {},
   "outputs": [
    {
     "name": "stdout",
     "output_type": "stream",
     "text": [
      "A new error is occurred: Balance cannot be: -500\n"
     ]
    }
   ],
   "source": [
    "try:\n",
    "    balance_amount=2000\n",
    "    withdraw_amount=2500\n",
    "    if (balance_amount<withdraw_amount):\n",
    "        raise(NoBalance(2000-2500))\n",
    "except NoBalance as error:\n",
    "    # Value of Exception is stored in error\n",
    "    print(\"A new error is occurred:\",error)"
   ]
  }
 ],
 "metadata": {
  "kernelspec": {
   "display_name": "Python 3",
   "language": "python",
   "name": "python3"
  },
  "language_info": {
   "codemirror_mode": {
    "name": "ipython",
    "version": 3
   },
   "file_extension": ".py",
   "mimetype": "text/x-python",
   "name": "python",
   "nbconvert_exporter": "python",
   "pygments_lexer": "ipython3",
   "version": "3.7.6"
  }
 },
 "nbformat": 4,
 "nbformat_minor": 5
}
