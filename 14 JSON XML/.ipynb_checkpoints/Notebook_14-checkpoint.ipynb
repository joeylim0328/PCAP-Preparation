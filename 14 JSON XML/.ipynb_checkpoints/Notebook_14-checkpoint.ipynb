{
 "cells": [
  {
   "cell_type": "markdown",
   "id": "c86b9c74",
   "metadata": {},
   "source": [
    "# 14 JSON/XML"
   ]
  },
  {
   "cell_type": "markdown",
   "id": "c1a317c2",
   "metadata": {},
   "source": [
    "JSON is a data format used for representing structured data. It is common to transmit and receive data between a server and web application in JSON format. In python, JSON exists as a string."
   ]
  },
  {
   "cell_type": "code",
   "execution_count": 1,
   "id": "d57db23b",
   "metadata": {},
   "outputs": [],
   "source": [
    "p = '{\"name\": \"Bob\", \"languages\": [\"Python\", \"Java\"]}'"
   ]
  },
  {
   "cell_type": "markdown",
   "id": "bd8c4475",
   "metadata": {},
   "source": [
    "### Python JSON to dict"
   ]
  },
  {
   "cell_type": "code",
   "execution_count": 2,
   "id": "46edc3cd",
   "metadata": {},
   "outputs": [
    {
     "name": "stdout",
     "output_type": "stream",
     "text": [
      "{'name': 'Bob', 'languages': ['English', 'Fench']}\n",
      "['English', 'Fench']\n"
     ]
    }
   ],
   "source": [
    "import json\n",
    "person = '{\"name\": \"Bob\", \"languages\": [\"English\", \"Fench\"]}'\n",
    "person_dict = json.loads(person)\n",
    "print( person_dict)\n",
    "print(person_dict['languages'])"
   ]
  },
  {
   "cell_type": "markdown",
   "id": "c439dcad",
   "metadata": {},
   "source": [
    "### Python read JSON file"
   ]
  },
  {
   "cell_type": "code",
   "execution_count": 3,
   "id": "fceb7296",
   "metadata": {},
   "outputs": [
    {
     "name": "stdout",
     "output_type": "stream",
     "text": [
      "{'name': 'Bob', 'languages': ['English', 'Fench']}\n"
     ]
    }
   ],
   "source": [
    "import json\n",
    "with open('person.json') as f:\n",
    "    data = json.load(f)\n",
    "print(data)"
   ]
  },
  {
   "cell_type": "markdown",
   "id": "03d1fafd",
   "metadata": {},
   "source": [
    "### Python convert dict to JSON string"
   ]
  },
  {
   "cell_type": "code",
   "execution_count": 4,
   "id": "bad2dd90",
   "metadata": {},
   "outputs": [
    {
     "name": "stdout",
     "output_type": "stream",
     "text": [
      "{\"name\": \"Bob\", \"age\": 12, \"children\": null}\n"
     ]
    }
   ],
   "source": [
    "import json\n",
    "\n",
    "person_dict = {\n",
    "    'name': 'Bob',\n",
    "    'age': 12,\n",
    "    'children': None\n",
    "}\n",
    "\n",
    "person_json = json.dumps(person_dict)\n",
    "\n",
    "\n",
    "# Output: {\"name\": \"Bob\", \"age\": 12, \"children\": null}\n",
    "print(person_json)"
   ]
  },
  {
   "cell_type": "markdown",
   "id": "d8416bae",
   "metadata": {},
   "source": [
    "### Writing JSON to a file"
   ]
  },
  {
   "cell_type": "code",
   "execution_count": 6,
   "id": "415dd88c",
   "metadata": {},
   "outputs": [],
   "source": [
    "import json\n",
    "person_dict = {\n",
    "\"name\": \"Joey\",\n",
    "\"languages\": [\"English\", \"Chinese\",\"Malay\"],\n",
    "\"married\": False,\n",
    "\"age\": 20\n",
    "}\n",
    "with open('person2.txt', 'w') as json_file:\n",
    "    json.dump(person_dict, json_file)"
   ]
  },
  {
   "cell_type": "markdown",
   "id": "e9878a50",
   "metadata": {},
   "source": [
    "### Python pretty print JSON"
   ]
  },
  {
   "cell_type": "code",
   "execution_count": 7,
   "id": "71139a76",
   "metadata": {},
   "outputs": [
    {
     "name": "stdout",
     "output_type": "stream",
     "text": [
      "{\n",
      "    \"languages\": \"English\",\n",
      "    \"name\": \"Bob\",\n",
      "    \"numbers\": [\n",
      "        2,\n",
      "        1.6,\n",
      "        null\n",
      "    ]\n",
      "}\n"
     ]
    }
   ],
   "source": [
    "import json\n",
    "person_string = '{\"name\": \"Bob\", \"languages\": \"English\", \"numbers\": [2, 1.6, null]}'\n",
    "# Getting dictionary\n",
    "person_dict = json.loads(person_string)\n",
    "# Pretty Printing JSON string back\n",
    "print(json.dumps(person_dict, indent = 4, sort_keys=True))"
   ]
  }
 ],
 "metadata": {
  "kernelspec": {
   "display_name": "Python 3",
   "language": "python",
   "name": "python3"
  },
  "language_info": {
   "codemirror_mode": {
    "name": "ipython",
    "version": 3
   },
   "file_extension": ".py",
   "mimetype": "text/x-python",
   "name": "python",
   "nbconvert_exporter": "python",
   "pygments_lexer": "ipython3",
   "version": "3.7.6"
  }
 },
 "nbformat": 4,
 "nbformat_minor": 5
}
