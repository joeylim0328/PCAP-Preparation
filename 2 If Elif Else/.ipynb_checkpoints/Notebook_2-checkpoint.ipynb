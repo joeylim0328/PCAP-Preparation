{
 "cells": [
  {
   "cell_type": "markdown",
   "id": "a32881d2",
   "metadata": {},
   "source": [
    "# 2 If Elif Else"
   ]
  },
  {
   "cell_type": "markdown",
   "id": "18feca51",
   "metadata": {},
   "source": [
    "## If Statement"
   ]
  },
  {
   "cell_type": "code",
   "execution_count": 1,
   "id": "8d5feab0",
   "metadata": {},
   "outputs": [],
   "source": [
    "a=33\n",
    "b=200\n",
    "if a>b:\n",
    "    print(\"Bigger\")"
   ]
  },
  {
   "cell_type": "markdown",
   "id": "82d2afe4",
   "metadata": {},
   "source": [
    "## If Else Statement"
   ]
  },
  {
   "cell_type": "code",
   "execution_count": 2,
   "id": "007f6217",
   "metadata": {},
   "outputs": [
    {
     "name": "stdout",
     "output_type": "stream",
     "text": [
      "Smaller\n"
     ]
    }
   ],
   "source": [
    "a=33\n",
    "b=200\n",
    "if a>b:\n",
    "    print(\"Bigger\")\n",
    "\n",
    "else:\n",
    "    print(\"Smaller\")"
   ]
  },
  {
   "cell_type": "markdown",
   "id": "4bf2726b",
   "metadata": {},
   "source": [
    "## If Elif Else Statement"
   ]
  },
  {
   "cell_type": "code",
   "execution_count": 3,
   "id": "6491ba10",
   "metadata": {},
   "outputs": [
    {
     "name": "stdout",
     "output_type": "stream",
     "text": [
      "equal\n"
     ]
    }
   ],
   "source": [
    "a=33\n",
    "b=33\n",
    "\n",
    "if a>b:\n",
    "    print(\"bigger\")\n",
    "elif a==b:\n",
    "    print(\"equal\")\n",
    "else:\n",
    "    print(\"smaller\")"
   ]
  },
  {
   "cell_type": "markdown",
   "id": "c80d057f",
   "metadata": {},
   "source": [
    "## Short Hand"
   ]
  },
  {
   "cell_type": "code",
   "execution_count": 5,
   "id": "f5085741",
   "metadata": {},
   "outputs": [
    {
     "name": "stdout",
     "output_type": "stream",
     "text": [
      "Bigger\n"
     ]
    }
   ],
   "source": [
    "# If only one statement to execute\n",
    "a=400\n",
    "b=200\n",
    "if a>b: print(\"Bigger\")"
   ]
  },
  {
   "cell_type": "code",
   "execution_count": 6,
   "id": "86fc521f",
   "metadata": {},
   "outputs": [
    {
     "name": "stdout",
     "output_type": "stream",
     "text": [
      "a is greater than b\n"
     ]
    }
   ],
   "source": [
    "# If and else statement\n",
    "print(\"a is greater than b\") if a > b else print(\"a is less than b\")"
   ]
  },
  {
   "cell_type": "code",
   "execution_count": 7,
   "id": "105100f5",
   "metadata": {},
   "outputs": [
    {
     "name": "stdout",
     "output_type": "stream",
     "text": [
      "a is greater than b\n"
     ]
    }
   ],
   "source": [
    "# If have multiple statements\n",
    "print(\"a is greater than b\") if a > b else print(\"a equals to b\") if a == b else print(\"a is less than b\")"
   ]
  },
  {
   "cell_type": "markdown",
   "id": "f9fc556d",
   "metadata": {},
   "source": [
    "## Logical Operator"
   ]
  },
  {
   "cell_type": "code",
   "execution_count": 8,
   "id": "9c4e4f46",
   "metadata": {},
   "outputs": [
    {
     "name": "stdout",
     "output_type": "stream",
     "text": [
      "TRUE\n"
     ]
    }
   ],
   "source": [
    "a=5\n",
    "b=30\n",
    "c=50\n",
    "\n",
    "print(\"TRUE\") if b>a and b<c else print(\"FALSE\")"
   ]
  },
  {
   "cell_type": "code",
   "execution_count": 9,
   "id": "5c117245",
   "metadata": {},
   "outputs": [
    {
     "name": "stdout",
     "output_type": "stream",
     "text": [
      "TRUE\n"
     ]
    }
   ],
   "source": [
    "a=5\n",
    "b=30\n",
    "c=50\n",
    "\n",
    "print(\"TRUE\") if b>a or b<c else print(\"FALSE\")"
   ]
  }
 ],
 "metadata": {
  "kernelspec": {
   "display_name": "Python 3",
   "language": "python",
   "name": "python3"
  },
  "language_info": {
   "codemirror_mode": {
    "name": "ipython",
    "version": 3
   },
   "file_extension": ".py",
   "mimetype": "text/x-python",
   "name": "python",
   "nbconvert_exporter": "python",
   "pygments_lexer": "ipython3",
   "version": "3.7.6"
  }
 },
 "nbformat": 4,
 "nbformat_minor": 5
}
