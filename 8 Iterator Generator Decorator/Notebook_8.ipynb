{
 "cells": [
  {
   "cell_type": "markdown",
   "id": "e52593c9",
   "metadata": {},
   "source": [
    "# 8 Interator Generator Decorator"
   ]
  },
  {
   "cell_type": "markdown",
   "id": "038c5f3c",
   "metadata": {},
   "source": [
    "## Iterator\n",
    "An interator is an object that contains a countable number of values. lists, tuples, dictionaries and sets are all iterable objects."
   ]
  },
  {
   "cell_type": "code",
   "execution_count": 5,
   "id": "3dd6239c",
   "metadata": {},
   "outputs": [
    {
     "name": "stdout",
     "output_type": "stream",
     "text": [
      "apple\n",
      "banana\n",
      "cherry\n"
     ]
    }
   ],
   "source": [
    "fruits=(\"apple\",\"banana\",\"cherry\")\n",
    "fruit=iter(fruits)\n",
    "\n",
    "print(next(fruit))\n",
    "print(next(fruit))\n",
    "print(next(fruit))"
   ]
  },
  {
   "cell_type": "code",
   "execution_count": 7,
   "id": "733f0ccb",
   "metadata": {},
   "outputs": [
    {
     "name": "stdout",
     "output_type": "stream",
     "text": [
      "2\n",
      "3\n",
      "4\n"
     ]
    }
   ],
   "source": [
    "class Number:\n",
    "    def __iter__(self):\n",
    "        self.mynumber=1\n",
    "        return self\n",
    "    \n",
    "    def __next__(self):\n",
    "        self.mynumber=self.mynumber+1\n",
    "        return self.mynumber\n",
    "\n",
    "number=Number()\n",
    "iterator=iter(number)\n",
    "print(next(iterator))   \n",
    "print(next(iterator))\n",
    "print(next(iterator))"
   ]
  },
  {
   "cell_type": "markdown",
   "id": "e71d0a79",
   "metadata": {},
   "source": [
    "## Generator\n",
    "Python generators are a simple way of creating iterators. A generator is a function that returns an object (iterator) which can be iterated over (one value at a time)"
   ]
  },
  {
   "cell_type": "code",
   "execution_count": 8,
   "id": "2743bbb7",
   "metadata": {},
   "outputs": [],
   "source": [
    "# A simple generator function\n",
    "def my_gen():\n",
    "    n=1\n",
    "    print(\"This is printed first\")\n",
    "    \n",
    "    # Generator contains yield\n",
    "    yield n\n",
    "    \n",
    "    n=n+1\n",
    "    print(\"This is printed second\")\n",
    "    yield n\n",
    "    \n",
    "    n=n+1\n",
    "    print(\"This is printed at last\")\n",
    "    \n",
    "    yield n\n",
    "    "
   ]
  },
  {
   "cell_type": "code",
   "execution_count": 9,
   "id": "ad4bbd07",
   "metadata": {},
   "outputs": [],
   "source": [
    "# Returns an object but does not start execution\n",
    "a=my_gen()"
   ]
  },
  {
   "cell_type": "code",
   "execution_count": 10,
   "id": "4f64084f",
   "metadata": {},
   "outputs": [
    {
     "name": "stdout",
     "output_type": "stream",
     "text": [
      "This is printed first\n"
     ]
    },
    {
     "data": {
      "text/plain": [
       "1"
      ]
     },
     "execution_count": 10,
     "metadata": {},
     "output_type": "execute_result"
    }
   ],
   "source": [
    "# Iterate through the items using next()\n",
    "next(a)\n",
    "\n",
    "# Once the function yields, the function is paused and the control is transferred to the caller."
   ]
  },
  {
   "cell_type": "code",
   "execution_count": 11,
   "id": "422a481f",
   "metadata": {},
   "outputs": [
    {
     "name": "stdout",
     "output_type": "stream",
     "text": [
      "This is printed second\n"
     ]
    },
    {
     "data": {
      "text/plain": [
       "2"
      ]
     },
     "execution_count": 11,
     "metadata": {},
     "output_type": "execute_result"
    }
   ],
   "source": [
    "next(a)"
   ]
  },
  {
   "cell_type": "code",
   "execution_count": 12,
   "id": "d4e01884",
   "metadata": {},
   "outputs": [
    {
     "name": "stdout",
     "output_type": "stream",
     "text": [
      "This is printed at last\n"
     ]
    },
    {
     "data": {
      "text/plain": [
       "3"
      ]
     },
     "execution_count": 12,
     "metadata": {},
     "output_type": "execute_result"
    }
   ],
   "source": [
    "next(a)"
   ]
  },
  {
   "cell_type": "markdown",
   "id": "c6a86a13",
   "metadata": {},
   "source": [
    "## Decorator\n",
    "\n",
    "Function decorators are wrappers to existing functions. A function that takes another function as an argument, generates a new function, augmenting the work of the original function, and returning the generated function which can be used anywhere in the code."
   ]
  },
  {
   "cell_type": "code",
   "execution_count": 13,
   "id": "ee87f61b",
   "metadata": {},
   "outputs": [],
   "source": [
    "def get_text(name):\n",
    "    return \"Dear {0}, welcome to Python\".format(name)\n",
    "\n",
    "def p_decorate(func): # Decorator function\n",
    "    def func_wrapper(name): # Inner function that adds paragraph tag around the text\n",
    "        return \"<p>{0}</p>\".format(func(name))\n",
    "    return func_wrapper\n"
   ]
  },
  {
   "cell_type": "code",
   "execution_count": 14,
   "id": "5461e2c1",
   "metadata": {},
   "outputs": [],
   "source": [
    "my_get_text=p_decorate(get_text) # Decorator instance is created by passing custom function"
   ]
  },
  {
   "cell_type": "code",
   "execution_count": 15,
   "id": "bce58ca9",
   "metadata": {},
   "outputs": [
    {
     "name": "stdout",
     "output_type": "stream",
     "text": [
      "<p>Dear Joey, welcome to Python</p>\n"
     ]
    }
   ],
   "source": [
    "print(my_get_text(\"Joey\"))"
   ]
  },
  {
   "cell_type": "markdown",
   "id": "ac2c27fb",
   "metadata": {},
   "source": [
    "## Decorator Syntax"
   ]
  },
  {
   "cell_type": "code",
   "execution_count": 16,
   "id": "5f19f933",
   "metadata": {},
   "outputs": [
    {
     "name": "stdout",
     "output_type": "stream",
     "text": [
      "<p>Dear Joey, welcome to Python</p>\n"
     ]
    }
   ],
   "source": [
    "def p_decorate(func):\n",
    "    def func_wrapper(name):\n",
    "         return \"<p>{0}</p>\".format(func(name))\n",
    "    return func_wrapper\n",
    "@p_decorate # Decorator\n",
    "def get_text(name):\n",
    "    return \"Dear {0}, welcome to Python\".format(name)\n",
    "\n",
    "print(get_text(\"Joey\"))"
   ]
  },
  {
   "cell_type": "markdown",
   "id": "68906927",
   "metadata": {},
   "source": [
    "## Multiple Decorators"
   ]
  },
  {
   "cell_type": "code",
   "execution_count": 20,
   "id": "0672dfd5",
   "metadata": {},
   "outputs": [
    {
     "name": "stdout",
     "output_type": "stream",
     "text": [
      "Step - 1\n",
      "Step - 2\n",
      "Step - 2\n",
      "Step - 2\n",
      "Step - 3\n"
     ]
    }
   ],
   "source": [
    "def my_decorator(func):\n",
    "    def wrapper():\n",
    "        print(\"Step - 1\")\n",
    "        func() # Go to repeat\n",
    "        print(\"Step - 3\")\n",
    "    return wrapper\n",
    " \n",
    "def repeat(func):\n",
    "    def wrapper():\n",
    "        func()\n",
    "        func()\n",
    "        func()\n",
    "    return wrapper\n",
    " \n",
    " \n",
    "@my_decorator\n",
    "@repeat\n",
    "def start_steps():\n",
    "    print(\"Step - 2\")\n",
    " \n",
    " \n",
    "start_steps()"
   ]
  },
  {
   "cell_type": "code",
   "execution_count": 21,
   "id": "caafcd26",
   "metadata": {},
   "outputs": [
    {
     "name": "stdout",
     "output_type": "stream",
     "text": [
      "400\n"
     ]
    }
   ],
   "source": [
    "# code for testing decorator chaining\n",
    "def decor1(func):\n",
    "    def inner():\n",
    "        x = func()\n",
    "        return x * x\n",
    "    return inner\n",
    "  \n",
    "def decor(func):\n",
    "    def inner():\n",
    "        x = func()\n",
    "        return 2 * x\n",
    "    return inner\n",
    "  \n",
    "@decor1\n",
    "@decor\n",
    "def num():\n",
    "    return 10\n",
    "\n",
    "print(num())"
   ]
  },
  {
   "cell_type": "markdown",
   "id": "20d22783",
   "metadata": {},
   "source": [
    "## Decorating Methods\n",
    "Methods are functions that expect their first parameter to be a reference to the current object."
   ]
  },
  {
   "cell_type": "code",
   "execution_count": 22,
   "id": "d2f78f7d",
   "metadata": {},
   "outputs": [
    {
     "name": "stdout",
     "output_type": "stream",
     "text": [
      "<p>Joey</p>\n"
     ]
    }
   ],
   "source": [
    "def p_decorate(func):\n",
    "    def func_wrapper(self): # Decorator takes self as parameter same as methods\n",
    "        return \"<p>{0}</p>\".format(func(self))\n",
    "    return func_wrapper\n",
    "\n",
    "class Person(object):\n",
    "    def __init__(self):\n",
    "        self.name=\"Joey\"\n",
    "    \n",
    "    @p_decorate # Method Decorator\n",
    "    def get_fullname(self):\n",
    "        return self.name\n",
    "    \n",
    "my_person=Person()\n",
    "print(my_person.get_fullname())"
   ]
  },
  {
   "cell_type": "markdown",
   "id": "4f0508e2",
   "metadata": {},
   "source": [
    "## Passing arguments"
   ]
  },
  {
   "cell_type": "code",
   "execution_count": 23,
   "id": "4cb719f1",
   "metadata": {},
   "outputs": [],
   "source": [
    "def tags(tag_name):\n",
    "    def tags_decorator(func):\n",
    "        def func_wrapper(name):\n",
    "            return \"<{0}>{1}</{0}>\".format(tag_name, func(name))\n",
    "        return func_wrapper\n",
    "    return tags_decorator\n",
    "@tags(\"div\")\n",
    "@tags(\"strong\")\n",
    "@tags(\"p\")\n",
    "def get_text(name):\n",
    "    return \"Hello \"+name"
   ]
  },
  {
   "cell_type": "code",
   "execution_count": 24,
   "id": "611d4a98",
   "metadata": {},
   "outputs": [
    {
     "data": {
      "text/plain": [
       "'<div><strong><p>Hello Joey</p></strong></div>'"
      ]
     },
     "execution_count": 24,
     "metadata": {},
     "output_type": "execute_result"
    }
   ],
   "source": [
    "get_text(\"Joey\")"
   ]
  }
 ],
 "metadata": {
  "kernelspec": {
   "display_name": "Python 3",
   "language": "python",
   "name": "python3"
  },
  "language_info": {
   "codemirror_mode": {
    "name": "ipython",
    "version": 3
   },
   "file_extension": ".py",
   "mimetype": "text/x-python",
   "name": "python",
   "nbconvert_exporter": "python",
   "pygments_lexer": "ipython3",
   "version": "3.7.6"
  }
 },
 "nbformat": 4,
 "nbformat_minor": 5
}
