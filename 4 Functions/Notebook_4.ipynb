{
 "cells": [
  {
   "cell_type": "markdown",
   "id": "c72d4be6",
   "metadata": {},
   "source": [
    "# 4 Functions"
   ]
  },
  {
   "cell_type": "code",
   "execution_count": 1,
   "id": "cf4638c6",
   "metadata": {},
   "outputs": [
    {
     "name": "stdout",
     "output_type": "stream",
     "text": [
      "Hello, Joey\n"
     ]
    }
   ],
   "source": [
    "def sayHello(str):\n",
    "    str=\"Hello, \"+str\n",
    "    return str\n",
    "\n",
    "print(sayHello(\"Joey\"))"
   ]
  },
  {
   "cell_type": "markdown",
   "id": "cd6e6f19",
   "metadata": {},
   "source": [
    "## Passing Parameters"
   ]
  },
  {
   "cell_type": "code",
   "execution_count": 2,
   "id": "c0dcafcf",
   "metadata": {},
   "outputs": [
    {
     "name": "stdout",
     "output_type": "stream",
     "text": [
      "Lim\n"
     ]
    }
   ],
   "source": [
    "# Pass by Value\n",
    "def sayHello(name):\n",
    "    name=\"Joey\"\n",
    "    return name\n",
    "\n",
    "name=\"Lim\"\n",
    "sayHello(name)\n",
    "print(name)"
   ]
  },
  {
   "cell_type": "code",
   "execution_count": 4,
   "id": "c2b5eff7",
   "metadata": {},
   "outputs": [
    {
     "name": "stdout",
     "output_type": "stream",
     "text": [
      "[10, 20, 30, 40, 50]\n",
      "[10, 25, 30, 40, 50]\n"
     ]
    }
   ],
   "source": [
    "# Pass by Reference\n",
    "def changeValue(values):\n",
    "    values[1]=25\n",
    "    return values\n",
    "\n",
    "values=[10,20,30,40,50]\n",
    "print(values)\n",
    "\n",
    "changeValue(values)\n",
    "print(values)"
   ]
  },
  {
   "cell_type": "markdown",
   "id": "08ac3c03",
   "metadata": {},
   "source": [
    "## Function Arguments"
   ]
  },
  {
   "cell_type": "markdown",
   "id": "01ed648a",
   "metadata": {},
   "source": [
    "Required arguments are the arguments passed to a function in correct positional order."
   ]
  },
  {
   "cell_type": "code",
   "execution_count": 5,
   "id": "1c1587dd",
   "metadata": {},
   "outputs": [
    {
     "name": "stdout",
     "output_type": "stream",
     "text": [
      "6\n"
     ]
    }
   ],
   "source": [
    "def add(a,b):\n",
    "    return a+b\n",
    "\n",
    "print(add(2,4))"
   ]
  },
  {
   "cell_type": "markdown",
   "id": "d46a8aaa",
   "metadata": {},
   "source": [
    "Keyword arguments are related to the function calls. When you used keyword arguments in a function call, the caller identifies the arguments by the parameter name."
   ]
  },
  {
   "cell_type": "code",
   "execution_count": 6,
   "id": "b654b3c1",
   "metadata": {},
   "outputs": [
    {
     "name": "stdout",
     "output_type": "stream",
     "text": [
      "13\n"
     ]
    }
   ],
   "source": [
    "print(add(a=5,b=8))"
   ]
  },
  {
   "cell_type": "markdown",
   "id": "539953d2",
   "metadata": {},
   "source": [
    "A default argument is an argument that assumes a default value if a value is not provided in the function call for that argument"
   ]
  },
  {
   "cell_type": "code",
   "execution_count": 7,
   "id": "db84a9bb",
   "metadata": {},
   "outputs": [
    {
     "name": "stdout",
     "output_type": "stream",
     "text": [
      "6\n",
      "13\n"
     ]
    }
   ],
   "source": [
    "def add(a,b=9):\n",
    "    return a+b\n",
    "\n",
    "print(add(2,4))\n",
    "print(add(a=4))"
   ]
  },
  {
   "cell_type": "markdown",
   "id": "1fa5907e",
   "metadata": {},
   "source": [
    "Variable-length arguments:  Assigns the optional positional arguments to a tuple"
   ]
  },
  {
   "cell_type": "code",
   "execution_count": 15,
   "id": "ad6bfa58",
   "metadata": {},
   "outputs": [
    {
     "name": "stdout",
     "output_type": "stream",
     "text": [
      "60\n"
     ]
    }
   ],
   "source": [
    "def total_numbers(*mynumbers):\n",
    "    total=0\n",
    "    for i in mynumbers:\n",
    "        total+=i\n",
    "    return total\n",
    "\n",
    "print(total_numbers(10,20,30))"
   ]
  },
  {
   "cell_type": "code",
   "execution_count": 17,
   "id": "a8c2edd0",
   "metadata": {},
   "outputs": [
    {
     "name": "stdout",
     "output_type": "stream",
     "text": [
      "FirstName is Sita\n",
      "LastName is Sharma\n",
      "Age is 22\n",
      "Phone is 0168652259\n",
      "FirstName is John\n",
      "LastName is Wood\n",
      "Email is john@gmail.com\n",
      "Country is Italy\n"
     ]
    }
   ],
   "source": [
    "def intro ( **data ):\n",
    "    for key, value in data.items():\n",
    "        print(\"{} is {}\".format(key, value))\n",
    "        \n",
    "intro ( FirstName=\"Sita\", LastName=\"Sharma\", Age=22, Phone=\"0168652259\" )\n",
    "intro ( FirstName=\"John\", LastName=\"Wood\", Email=\"john@gmail.com\", Country=\"Italy\" )"
   ]
  },
  {
   "cell_type": "code",
   "execution_count": null,
   "id": "c02a5d15",
   "metadata": {},
   "outputs": [],
   "source": []
  }
 ],
 "metadata": {
  "kernelspec": {
   "display_name": "Python 3",
   "language": "python",
   "name": "python3"
  },
  "language_info": {
   "codemirror_mode": {
    "name": "ipython",
    "version": 3
   },
   "file_extension": ".py",
   "mimetype": "text/x-python",
   "name": "python",
   "nbconvert_exporter": "python",
   "pygments_lexer": "ipython3",
   "version": "3.7.6"
  }
 },
 "nbformat": 4,
 "nbformat_minor": 5
}
