{
 "cells": [
  {
   "cell_type": "markdown",
   "id": "c72d4be6",
   "metadata": {},
   "source": [
    "# 4 Functions"
   ]
  },
  {
   "cell_type": "code",
   "execution_count": 1,
   "id": "cf4638c6",
   "metadata": {},
   "outputs": [
    {
     "name": "stdout",
     "output_type": "stream",
     "text": [
      "Hello, Joey\n"
     ]
    }
   ],
   "source": [
    "def sayHello(str):\n",
    "    str=\"Hello, \"+str\n",
    "    return str\n",
    "\n",
    "print(sayHello(\"Joey\"))"
   ]
  },
  {
   "cell_type": "markdown",
   "id": "cd6e6f19",
   "metadata": {},
   "source": [
    "## Passing Parameters"
   ]
  },
  {
   "cell_type": "code",
   "execution_count": 2,
   "id": "c0dcafcf",
   "metadata": {},
   "outputs": [
    {
     "name": "stdout",
     "output_type": "stream",
     "text": [
      "Lim\n"
     ]
    }
   ],
   "source": [
    "# Pass by Value\n",
    "def sayHello(name):\n",
    "    name=\"Joey\"\n",
    "    return name\n",
    "\n",
    "name=\"Lim\"\n",
    "sayHello(name)\n",
    "print(name)"
   ]
  },
  {
   "cell_type": "code",
   "execution_count": 4,
   "id": "c2b5eff7",
   "metadata": {},
   "outputs": [
    {
     "name": "stdout",
     "output_type": "stream",
     "text": [
      "[10, 20, 30, 40, 50]\n",
      "[10, 25, 30, 40, 50]\n"
     ]
    }
   ],
   "source": [
    "# Pass by Reference\n",
    "def changeValue(values):\n",
    "    values[1]=25\n",
    "    return values\n",
    "\n",
    "values=[10,20,30,40,50]\n",
    "print(values)\n",
    "\n",
    "changeValue(values)\n",
    "print(values)"
   ]
  },
  {
   "cell_type": "markdown",
   "id": "08ac3c03",
   "metadata": {},
   "source": [
    "## Function Arguments"
   ]
  },
  {
   "cell_type": "markdown",
   "id": "01ed648a",
   "metadata": {},
   "source": [
    "Required arguments are the arguments passed to a function in correct positional order."
   ]
  },
  {
   "cell_type": "code",
   "execution_count": 5,
   "id": "1c1587dd",
   "metadata": {},
   "outputs": [
    {
     "name": "stdout",
     "output_type": "stream",
     "text": [
      "6\n"
     ]
    }
   ],
   "source": [
    "def add(a,b):\n",
    "    return a+b\n",
    "\n",
    "print(add(2,4))"
   ]
  },
  {
   "cell_type": "markdown",
   "id": "d46a8aaa",
   "metadata": {},
   "source": [
    "Keyword arguments are related to the function calls. When you used keyword arguments in a function call, the caller identifies the arguments by the parameter name."
   ]
  },
  {
   "cell_type": "code",
   "execution_count": 6,
   "id": "b654b3c1",
   "metadata": {},
   "outputs": [
    {
     "name": "stdout",
     "output_type": "stream",
     "text": [
      "13\n"
     ]
    }
   ],
   "source": [
    "print(add(a=5,b=8))"
   ]
  },
  {
   "cell_type": "markdown",
   "id": "539953d2",
   "metadata": {},
   "source": [
    "A default argument is an argument that assumes a default value if a value is not provided in the function call for that argument"
   ]
  },
  {
   "cell_type": "code",
   "execution_count": 7,
   "id": "db84a9bb",
   "metadata": {},
   "outputs": [
    {
     "name": "stdout",
     "output_type": "stream",
     "text": [
      "6\n",
      "13\n"
     ]
    }
   ],
   "source": [
    "def add(a,b=9):\n",
    "    return a+b\n",
    "\n",
    "print(add(2,4))\n",
    "print(add(a=4))"
   ]
  },
  {
   "cell_type": "markdown",
   "id": "1fa5907e",
   "metadata": {},
   "source": [
    "Variable-length arguments:  Assigns the optional positional arguments to a tuple"
   ]
  },
  {
   "cell_type": "code",
   "execution_count": 15,
   "id": "ad6bfa58",
   "metadata": {},
   "outputs": [
    {
     "name": "stdout",
     "output_type": "stream",
     "text": [
      "60\n"
     ]
    }
   ],
   "source": [
    "def total_numbers(*mynumbers):\n",
    "    total=0\n",
    "    for i in mynumbers:\n",
    "        total+=i\n",
    "    return total\n",
    "\n",
    "print(total_numbers(10,20,30))"
   ]
  },
  {
   "cell_type": "code",
   "execution_count": 17,
   "id": "a8c2edd0",
   "metadata": {},
   "outputs": [
    {
     "name": "stdout",
     "output_type": "stream",
     "text": [
      "FirstName is Sita\n",
      "LastName is Sharma\n",
      "Age is 22\n",
      "Phone is 0168652259\n",
      "FirstName is John\n",
      "LastName is Wood\n",
      "Email is john@gmail.com\n",
      "Country is Italy\n"
     ]
    }
   ],
   "source": [
    "def intro ( **data ):\n",
    "    for key, value in data.items():\n",
    "        print(\"{} is {}\".format(key, value))\n",
    "        \n",
    "intro ( FirstName=\"Sita\", LastName=\"Sharma\", Age=22, Phone=\"0168652259\" )\n",
    "intro ( FirstName=\"John\", LastName=\"Wood\", Email=\"john@gmail.com\", Country=\"Italy\" )"
   ]
  },
  {
   "cell_type": "markdown",
   "id": "968d6049",
   "metadata": {},
   "source": [
    "## Nested Functions"
   ]
  },
  {
   "cell_type": "code",
   "execution_count": 1,
   "id": "954fec77",
   "metadata": {},
   "outputs": [
    {
     "name": "stdout",
     "output_type": "stream",
     "text": [
      "2.0\n"
     ]
    }
   ],
   "source": [
    "def average(a,b,c):\n",
    "    def total(a,b,c):\n",
    "        return a+b+c\n",
    "    \n",
    "    return total(a,b,c)/3\n",
    "\n",
    "print(average(1,2,3))"
   ]
  },
  {
   "cell_type": "markdown",
   "id": "50b69480",
   "metadata": {},
   "source": [
    "## Assign Functions to Variables\n",
    "In Python, functions are first class citizens, they are objects and that means it can be assigned to a variable."
   ]
  },
  {
   "cell_type": "code",
   "execution_count": 3,
   "id": "a67e7ca7",
   "metadata": {},
   "outputs": [
    {
     "name": "stdout",
     "output_type": "stream",
     "text": [
      "Hello Joey\n"
     ]
    }
   ],
   "source": [
    "def greet(name):\n",
    "    return \"Hello \"+name\n",
    "\n",
    "greet_someone=greet # Assign function to a variable\n",
    "\n",
    "print(greet_someone(\"Joey\")) # Call function assigned to a variable"
   ]
  },
  {
   "cell_type": "markdown",
   "id": "f91e47a3",
   "metadata": {},
   "source": [
    "## Function inside Function"
   ]
  },
  {
   "cell_type": "code",
   "execution_count": 4,
   "id": "c720510b",
   "metadata": {},
   "outputs": [
    {
     "name": "stdout",
     "output_type": "stream",
     "text": [
      "Hello Joey\n"
     ]
    }
   ],
   "source": [
    "def greet(name):\n",
    "    def get_message():\n",
    "        return \"Hello \"\n",
    "    \n",
    "    result=get_message()+name\n",
    "    \n",
    "    return result\n",
    "\n",
    "print(greet(\"Joey\"))"
   ]
  },
  {
   "cell_type": "markdown",
   "id": "d2d7f434",
   "metadata": {},
   "source": [
    "## Function can be passed\n",
    "Functions can be passed as parameters to other functions."
   ]
  },
  {
   "cell_type": "code",
   "execution_count": 5,
   "id": "bd44b491",
   "metadata": {},
   "outputs": [
    {
     "name": "stdout",
     "output_type": "stream",
     "text": [
      "Hello Joey\n"
     ]
    }
   ],
   "source": [
    "def greet(name):\n",
    "    return \"Hello \"+name\n",
    "\n",
    "def call_func(func): # Function is passed as a parameter to another function\n",
    "    name=\"Joey\"\n",
    "    return func(name)\n",
    "\n",
    "print(call_func(greet)) # Calling a function by passing another function"
   ]
  },
  {
   "cell_type": "markdown",
   "id": "6ad52fa7",
   "metadata": {},
   "source": [
    "## Function can be returned\n",
    "Function can generate other function"
   ]
  },
  {
   "cell_type": "code",
   "execution_count": 12,
   "id": "cc4fead9",
   "metadata": {},
   "outputs": [
    {
     "name": "stdout",
     "output_type": "stream",
     "text": [
      "Hello there!\n"
     ]
    }
   ],
   "source": [
    "def compose_greet_func():\n",
    "    def get_message():\n",
    "        return \"Hello there!\"\n",
    "    return get_message()\n",
    "\n",
    "greet=compose_greet_func() # Return function is assigned to a variable\n",
    "\n",
    "print(greet)"
   ]
  },
  {
   "cell_type": "markdown",
   "id": "9d40db0f",
   "metadata": {},
   "source": [
    "## Closure\n",
    "Inner functions have access to the enclosing scope. To note: Python only allows read access to the outer scope and not assignment."
   ]
  },
  {
   "cell_type": "code",
   "execution_count": 15,
   "id": "96d634c6",
   "metadata": {},
   "outputs": [
    {
     "name": "stdout",
     "output_type": "stream",
     "text": [
      "Hello Amy!\n"
     ]
    }
   ],
   "source": [
    "def compose_greet_func(name):\n",
    "    def get_message():\n",
    "        return \"Hello \"+name+\"!\" # Inner function can access the name argument\n",
    "    return get_message # Function returns a function\n",
    "\n",
    "greet=compose_greet_func(\"Amy\")\n",
    "print(greet())"
   ]
  },
  {
   "cell_type": "markdown",
   "id": "1f155899",
   "metadata": {},
   "source": [
    "## Anonymous Functions\n",
    "\n",
    "Anonymous functions are not declared using the def keyword. They are declared using lambda keyword.\n",
    "- Lambda forms can take any number of arguments but return just one value. They cannot contain multiple expressions.\n",
    "- Cannot be a direct call to print because lambda requires an expression.\n",
    "- Lambda functions cannot access variables other than those in their parameter list and those in the global namespace."
   ]
  },
  {
   "cell_type": "markdown",
   "id": "3718c7b0",
   "metadata": {},
   "source": [
    "## Lambda Functions"
   ]
  },
  {
   "cell_type": "code",
   "execution_count": 16,
   "id": "dfd71f3b",
   "metadata": {},
   "outputs": [
    {
     "name": "stdout",
     "output_type": "stream",
     "text": [
      "10\n"
     ]
    }
   ],
   "source": [
    "double=lambda x:x*2 # A Lambda expression that always multiply the parameter by 2\n",
    "\n",
    "print(double(5))"
   ]
  },
  {
   "cell_type": "markdown",
   "id": "dc3e0283",
   "metadata": {},
   "source": [
    "## Use of Lambda Functions"
   ]
  },
  {
   "cell_type": "code",
   "execution_count": 17,
   "id": "d0e945fd",
   "metadata": {},
   "outputs": [
    {
     "name": "stdout",
     "output_type": "stream",
     "text": [
      "[4, 6, 8, 12]\n"
     ]
    }
   ],
   "source": [
    "# The following code FILTER only the even numbers in the list\n",
    "\n",
    "my_list=[1,5,4,6,8,11,3,12]\n",
    "new_list=list(filter(lambda x:(x%2==0),my_list))\n",
    "print(new_list)"
   ]
  },
  {
   "cell_type": "code",
   "execution_count": 18,
   "id": "e87c46af",
   "metadata": {},
   "outputs": [
    {
     "name": "stdout",
     "output_type": "stream",
     "text": [
      "[2, 4, 6, 8, 10, 12, 14]\n"
     ]
    }
   ],
   "source": [
    "# The following code uses MAP to multiply every item in the list with 2\n",
    "\n",
    "my_list=[1,2,3,4,5,6,7]\n",
    "new_list=list(map(lambda x:x*2,my_list))\n",
    "print(new_list)"
   ]
  },
  {
   "cell_type": "code",
   "execution_count": 20,
   "id": "1cea7287",
   "metadata": {},
   "outputs": [
    {
     "name": "stdout",
     "output_type": "stream",
     "text": [
      "22\n"
     ]
    }
   ],
   "source": [
    "def multiplier(n):\n",
    "    return lambda a:a*n\n",
    "\n",
    "# Function that always doubles the number\n",
    "mydoubler=multiplier(2)\n",
    "print(mydoubler(11))"
   ]
  },
  {
   "cell_type": "code",
   "execution_count": 21,
   "id": "fe1bb317",
   "metadata": {},
   "outputs": [
    {
     "name": "stdout",
     "output_type": "stream",
     "text": [
      "33\n"
     ]
    }
   ],
   "source": [
    "# Function that always triples the number\n",
    "mytripler=multiplier(3)\n",
    "print(mytripler(11))"
   ]
  },
  {
   "cell_type": "markdown",
   "id": "1eb2f3b4",
   "metadata": {},
   "source": [
    "## Function-map()\n",
    "Parameters of map(fun,iter):\n",
    "- fun: It is a function to which map passes each element of given iterable.\n",
    "- iter: It is an iterable which to be mapped."
   ]
  },
  {
   "cell_type": "code",
   "execution_count": 30,
   "id": "b65070fc",
   "metadata": {},
   "outputs": [
    {
     "name": "stdout",
     "output_type": "stream",
     "text": [
      "[97.7, 37.4, 99.5, 102.2]\n",
      "[22.27777777777778, -11.222222222222221, 23.27777777777778, 24.77777777777778]\n"
     ]
    }
   ],
   "source": [
    "def fahrenheit(temp):\n",
    "    return ((float(9)/5)*temp+32)\n",
    "\n",
    "def celsius(temp):\n",
    "    return ((float(5)/9)*temp-32)\n",
    "\n",
    "temp=(36.5,3,37.5,39)\n",
    "\n",
    "F=map(fahrenheit,temp)\n",
    "result=(list(F))\n",
    "print(result)\n",
    "\n",
    "C=map(celsius,result)\n",
    "result2=list(C)\n",
    "print(result2)"
   ]
  },
  {
   "cell_type": "markdown",
   "id": "be99a7c3",
   "metadata": {},
   "source": [
    "## Function-filter()\n",
    "This function offers an elegant way to filter out all the elements of a list, for which the function returns True."
   ]
  },
  {
   "cell_type": "code",
   "execution_count": 32,
   "id": "79bcbaab",
   "metadata": {},
   "outputs": [
    {
     "name": "stdout",
     "output_type": "stream",
     "text": [
      "[1, 3, 5, 7]\n"
     ]
    }
   ],
   "source": [
    "x=[1,2,3,4,5,6,7,8]\n",
    "result=filter(lambda x:x%2,x)\n",
    "\n",
    "list_result=list(result)\n",
    "print(list_result)"
   ]
  },
  {
   "cell_type": "markdown",
   "id": "27a80cdb",
   "metadata": {},
   "source": [
    "## Function-reduce()\n",
    "The function is used to apply a particular function passed in its argument to all of the list elements mentioned in the sequence passed along"
   ]
  },
  {
   "cell_type": "code",
   "execution_count": 35,
   "id": "42615645",
   "metadata": {},
   "outputs": [
    {
     "data": {
      "text/plain": [
       "113"
      ]
     },
     "execution_count": 35,
     "metadata": {},
     "output_type": "execute_result"
    }
   ],
   "source": [
    "import functools\n",
    "\n",
    "functools.reduce(lambda x, y: x + y, [47,11,42,13])"
   ]
  }
 ],
 "metadata": {
  "kernelspec": {
   "display_name": "Python 3",
   "language": "python",
   "name": "python3"
  },
  "language_info": {
   "codemirror_mode": {
    "name": "ipython",
    "version": 3
   },
   "file_extension": ".py",
   "mimetype": "text/x-python",
   "name": "python",
   "nbconvert_exporter": "python",
   "pygments_lexer": "ipython3",
   "version": "3.7.6"
  }
 },
 "nbformat": 4,
 "nbformat_minor": 5
}
